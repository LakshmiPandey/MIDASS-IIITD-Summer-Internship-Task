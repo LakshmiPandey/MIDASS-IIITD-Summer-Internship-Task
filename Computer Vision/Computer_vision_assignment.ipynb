{
  "nbformat": 4,
  "nbformat_minor": 0,
  "metadata": {
    "colab": {
      "name": "Computer_vision_assignment.ipynb",
      "version": "0.3.2",
      "provenance": [],
      "collapsed_sections": [],
      "include_colab_link": true
    },
    "kernelspec": {
      "name": "python3",
      "display_name": "Python 3"
    }
  },
  "cells": [
    {
      "cell_type": "markdown",
      "metadata": {
        "id": "view-in-github",
        "colab_type": "text"
      },
      "source": [
        "<a href=\"https://colab.research.google.com/github/aarna97pandey/MIDASS-IIITD-Summer-Internship-Task/blob/master/Computer%20Vision/Computer_vision_assignment.ipynb\" target=\"_parent\"><img src=\"https://colab.research.google.com/assets/colab-badge.svg\" alt=\"Open In Colab\"/></a>"
      ]
    },
    {
      "metadata": {
        "id": "irIFtg4xP7io",
        "colab_type": "code",
        "outputId": "8f564f72-4fc1-4f2c-add2-a27dcfda8394",
        "colab": {
          "base_uri": "https://localhost:8080/",
          "height": 34
        }
      },
      "cell_type": "code",
      "source": [
        "#Connecting the notebook to the Drive file\n",
        "from google.colab import drive\n",
        "drive.mount('/content/gdrive')\n"
      ],
      "execution_count": 7,
      "outputs": [
        {
          "output_type": "stream",
          "text": [
            "Drive already mounted at /content/gdrive; to attempt to forcibly remount, call drive.mount(\"/content/gdrive\", force_remount=True).\n"
          ],
          "name": "stdout"
        }
      ]
    },
    {
      "metadata": {
        "id": "rSaEZeg85_kE",
        "colab_type": "code",
        "colab": {}
      },
      "cell_type": "code",
      "source": [
        "# import the gdrive\n",
        "from google.colab import drive"
      ],
      "execution_count": 0,
      "outputs": []
    },
    {
      "metadata": {
        "id": "aYR_8l28QEGX",
        "colab_type": "code",
        "colab": {}
      },
      "cell_type": "code",
      "source": [
        "#libraries for preprocessing\n",
        "%matplotlib inline \n",
        "from IPython.display import Image\n",
        "import matplotlib.pyplot as plt\n",
        "import numpy as np\n",
        "import pickle\n",
        "import cv2"
      ],
      "execution_count": 0,
      "outputs": []
    },
    {
      "metadata": {
        "id": "NG7EVNA2nwxY",
        "colab_type": "code",
        "outputId": "93047f6f-baeb-4121-ea4a-19ea91655ed5",
        "colab": {
          "base_uri": "https://localhost:8080/",
          "height": 69
        }
      },
      "cell_type": "code",
      "source": [
        "train_setX=[]\n",
        "with open('/content/gdrive/My Drive/Colab Notebooks/IIIT Delhi Assignment/Vision_task_dataset_public/train_image.pkl', 'rb') as files:\n",
        "      train_setX=pickle.load(files)\n",
        "\n",
        "train_setY=[]\n",
        "with open('/content/gdrive/My Drive/Colab Notebooks/IIIT Delhi Assignment/Vision_task_dataset_public/train_label.pkl', 'rb') as files:\n",
        "    train_setY = pickle.load(files)\n",
        " \n",
        "  \n",
        "Img = len(train_setX)     # no images in train set\n",
        "print(Img)   \n",
        "print(len(train_setY))    # no of labels\n",
        "print(len(train_setX[0])) # heightXWidth       "
      ],
      "execution_count": 127,
      "outputs": [
        {
          "output_type": "stream",
          "text": [
            "8000\n",
            "8000\n",
            "784\n"
          ],
          "name": "stdout"
        }
      ]
    },
    {
      "metadata": {
        "id": "NyxhIPJJLmgN",
        "colab_type": "code",
        "colab": {}
      },
      "cell_type": "code",
      "source": [
        "nR = 28\n",
        "nC = 28"
      ],
      "execution_count": 0,
      "outputs": []
    },
    {
      "metadata": {
        "id": "H1ijDcHbX3eu",
        "colab_type": "code",
        "outputId": "e5ff141a-0311-4c59-cc96-f72fdb990836",
        "colab": {
          "base_uri": "https://localhost:8080/",
          "height": 34
        }
      },
      "cell_type": "code",
      "source": [
        "nBytesTotal = Img*nR*nC*1#since each pixel data is 1 byte\n",
        "print(nBytesTotal)\n",
        "train_image_array = np.array(train_setX)/255\n",
        "train_image_array= image_array.reshape(Img,nR, nC)\n",
        "train_image_array= np.array(image_array)"
      ],
      "execution_count": 146,
      "outputs": [
        {
          "output_type": "stream",
          "text": [
            "6272000\n"
          ],
          "name": "stdout"
        }
      ]
    },
    {
      "metadata": {
        "id": "sL7LT49ZBb5t",
        "colab_type": "code",
        "outputId": "a8d42adb-f9fd-416d-be79-a7d9948ba264",
        "colab": {
          "base_uri": "https://localhost:8080/",
          "height": 52
        }
      },
      "cell_type": "code",
      "source": [
        "test_setX=[]\n",
        "with open('/content/gdrive/My Drive/Colab Notebooks/IIIT Delhi Assignment/Vision_task_dataset_public/test_image.pkl', 'rb') as files:\n",
        "      test_setX=pickle.load(files)\n",
        "print(len(test_setX))   # no images in test set    \n",
        "print(len(test_setX[0]))\n",
        "\n",
        "test_image_array= np.array(test_setX)/255\n",
        "test_image_array =test_image_array.reshape(2000, nR, nC)\n",
        "test_image_array = np.array(test_image_array)"
      ],
      "execution_count": 138,
      "outputs": [
        {
          "output_type": "stream",
          "text": [
            "2000\n",
            "784\n"
          ],
          "name": "stdout"
        }
      ]
    },
    {
      "metadata": {
        "id": "yCgkJAFQF5B4",
        "colab_type": "code",
        "colab": {
          "base_uri": "https://localhost:8080/",
          "height": 193
        },
        "outputId": "e1ca260b-5485-412a-9aad-f4d04ba671dc"
      },
      "cell_type": "code",
      "source": [
        "train_label_array = np.array(train_setY).reshape(len(train_setY),1)\n",
        "#print(train_label_array)\n",
        "\n",
        "from sklearn.preprocessing import LabelEncoder\n",
        "labelencoder_y = LabelEncoder()\n",
        "encoded_train_label_array = labelencoder_y.fit_transform(train_label_array)\n",
        "encoded_train_label_array = encoded_train_label_array.reshape(Img,1)\n",
        "print(encoded_train_label_array)"
      ],
      "execution_count": 152,
      "outputs": [
        {
          "output_type": "stream",
          "text": [
            "[[0]\n",
            " [0]\n",
            " [0]\n",
            " ...\n",
            " [3]\n",
            " [3]\n",
            " [3]]\n"
          ],
          "name": "stdout"
        },
        {
          "output_type": "stream",
          "text": [
            "/usr/local/lib/python3.6/dist-packages/sklearn/preprocessing/label.py:235: DataConversionWarning: A column-vector y was passed when a 1d array was expected. Please change the shape of y to (n_samples, ), for example using ravel().\n",
            "  y = column_or_1d(y, warn=True)\n"
          ],
          "name": "stderr"
        }
      ]
    },
    {
      "metadata": {
        "id": "Yo4BJYwKX3-W",
        "colab_type": "code",
        "outputId": "4adcd39c-1fca-4d1f-bcda-0316ab8c29d5",
        "colab": {
          "base_uri": "https://localhost:8080/",
          "height": 286
        }
      },
      "cell_type": "code",
      "source": [
        "x = Image_array[0]\n",
        "plt.imshow(x)"
      ],
      "execution_count": 144,
      "outputs": [
        {
          "output_type": "execute_result",
          "data": {
            "text/plain": [
              "<matplotlib.image.AxesImage at 0x7f7d077b25c0>"
            ]
          },
          "metadata": {
            "tags": []
          },
          "execution_count": 144
        },
        {
          "output_type": "display_data",
          "data": {
            "image/png": "[encoded data removed]",
            "text/plain": [
              "<Figure size 432x288 with 1 Axes>"
            ]
          },
          "metadata": {
            "tags": []
          }
        }
      ]
    },
    {
      "metadata": {
        "id": "-EOqSixpW6S9",
        "colab_type": "text"
      },
      "cell_type": "markdown",
      "source": [
        "#Machine Learning"
      ]
    },
    {
      "metadata": {
        "id": "oqbGxJK4W5Xz",
        "colab_type": "code",
        "colab": {}
      },
      "cell_type": "code",
      "source": [
        "# Fitting K-NN to the Training set\n",
        "_array = np.array(train_setX).reshape(8000, 28*28)\n",
        "x_train= _array\n",
        "y_train=train_setY\n",
        "_array_test = np.array(test_setX).reshape(2000,28*28)\n",
        "x_test= _array_test\n"
      ],
      "execution_count": 0,
      "outputs": []
    },
    {
      "metadata": {
        "id": "SknxyQhHPfSu",
        "colab_type": "code",
        "colab": {}
      },
      "cell_type": "code",
      "source": [
        "from sklearn.model_selection import train_test_split\n",
        "x_train, x_test, y_train, y_test = train_test_split(x_train, y_train, test_size=0.20, random_state=4)\n"
      ],
      "execution_count": 0,
      "outputs": []
    },
    {
      "metadata": {
        "id": "a0PpaRyUW9z7",
        "colab_type": "code",
        "outputId": "74810f52-dbff-467a-fd07-e36e04e3994d",
        "colab": {
          "base_uri": "https://localhost:8080/",
          "height": 34
        }
      },
      "cell_type": "code",
      "source": [
        "from sklearn.neighbors import KNeighborsClassifier\n",
        "classifier = KNeighborsClassifier(n_neighbors = 5, metric = 'minkowski', p = 2)\n",
        "classifier.fit(x_train, y_train)\n",
        "y_pred = classifier.predict(x_test)\n",
        "\n",
        "\n",
        "# compute classification accuracy for the logistic regression model\n",
        "from sklearn import metrics\n",
        "\n",
        "print(metrics.accuracy_score(y_test, y_pred))\n",
        "\n"
      ],
      "execution_count": 0,
      "outputs": [
        {
          "output_type": "stream",
          "text": [
            "0.7825\n"
          ],
          "name": "stdout"
        }
      ]
    },
    {
      "metadata": {
        "id": "ErQvyGdARTGJ",
        "colab_type": "code",
        "outputId": "a38ea975-097b-4a02-f126-a2dab6086af4",
        "colab": {
          "base_uri": "https://localhost:8080/",
          "height": 34
        }
      },
      "cell_type": "code",
      "source": [
        "# trying naive bayes classification\n",
        "from sklearn.naive_bayes import GaussianNB \n",
        "gnb = GaussianNB() \n",
        "gnb.fit(x_train, y_train) \n",
        "\n",
        "# making predictions on the testing set \n",
        "y_pred = gnb.predict(x_test) \n",
        "  \n",
        "# comparing actual response values (y_test) with predicted response values (y_pred) \n",
        "from sklearn import metrics \n",
        "print(\"Gaussian Naive Bayes model accuracy(in %):\", metrics.accuracy_score(y_test, y_pred)*100)"
      ],
      "execution_count": 0,
      "outputs": [
        {
          "output_type": "stream",
          "text": [
            "Gaussian Naive Bayes model accuracy(in %): 62.81250000000001\n"
          ],
          "name": "stdout"
        }
      ]
    },
    {
      "metadata": {
        "id": "E6ouB-8SYYAc",
        "colab_type": "text"
      },
      "cell_type": "markdown",
      "source": [
        "#  Building the training model  # CNN"
      ]
    },
    {
      "metadata": {
        "id": "HHs_aCPdS9mb",
        "colab_type": "code",
        "colab": {}
      },
      "cell_type": "code",
      "source": [
        "# Importing Libraries for training dataset\n",
        "import keras\n",
        "from keras.datasets import mnist\n",
        "from keras.models import Sequential\n",
        "from keras.layers import Dense, Dropout, Flatten\n",
        "from keras.layers import Conv2D, MaxPooling2D"
      ],
      "execution_count": 0,
      "outputs": []
    },
    {
      "metadata": {
        "id": "PTB6G8lQYnjF",
        "colab_type": "code",
        "colab": {}
      },
      "cell_type": "code",
      "source": [
        "batch_size = 200\n",
        "epochs = 20\n",
        "num_classes = 4"
      ],
      "execution_count": 0,
      "outputs": []
    },
    {
      "metadata": {
        "id": "tvLfgK7gYoEC",
        "colab_type": "code",
        "colab": {
          "base_uri": "https://localhost:8080/",
          "height": 34
        },
        "outputId": "bf3d7a99-8a98-4d60-d763-50d35f278518"
      },
      "cell_type": "code",
      "source": [
        "x_train = train_image_array\n",
        "y_train = encoded_train_label_array\n",
        "print(y_train.shape)"
      ],
      "execution_count": 153,
      "outputs": [
        {
          "output_type": "stream",
          "text": [
            "(8000, 1)\n"
          ],
          "name": "stdout"
        }
      ]
    },
    {
      "metadata": {
        "id": "ReQP0HC8GOVJ",
        "colab_type": "code",
        "colab": {}
      },
      "cell_type": "code",
      "source": [
        "x_test = test_image_array"
      ],
      "execution_count": 0,
      "outputs": []
    },
    {
      "metadata": {
        "id": "51x7WB86Yy4l",
        "colab_type": "code",
        "colab": {}
      },
      "cell_type": "code",
      "source": [
        "x_train = x_train.reshape(8000,28,28,1)\n"
      ],
      "execution_count": 0,
      "outputs": []
    },
    {
      "metadata": {
        "id": "mz2hTPoyGS6U",
        "colab_type": "code",
        "colab": {}
      },
      "cell_type": "code",
      "source": [
        "x_test = x_test.reshape(2000,28,28,1)"
      ],
      "execution_count": 0,
      "outputs": []
    },
    {
      "metadata": {
        "id": "zBG6jr7IcnE0",
        "colab_type": "code",
        "outputId": "f942787c-054c-4a0f-a8de-f215e285c78d",
        "colab": {
          "base_uri": "https://localhost:8080/",
          "height": 69
        }
      },
      "cell_type": "code",
      "source": [
        "print('x_train shape:', x_train.shape)\n",
        "print(x_train.shape[0], 'train samples')\n",
        "print('Y train: ', y_train.shape)\n"
      ],
      "execution_count": 157,
      "outputs": [
        {
          "output_type": "stream",
          "text": [
            "x_train shape: (8000, 28, 28, 1)\n",
            "8000 train samples\n",
            "Y train:  (8000, 1)\n"
          ],
          "name": "stdout"
        }
      ]
    },
    {
      "metadata": {
        "id": "vJgFRvfKGkD-",
        "colab_type": "code",
        "outputId": "6db3d587-2265-4018-f24f-dd97d5a1b11a",
        "colab": {
          "base_uri": "https://localhost:8080/",
          "height": 52
        }
      },
      "cell_type": "code",
      "source": [
        "print('x_test shape:', x_test.shape)\n",
        "print(x_test.shape[0], 'test samples')"
      ],
      "execution_count": 158,
      "outputs": [
        {
          "output_type": "stream",
          "text": [
            "x_test shape: (2000, 28, 28, 1)\n",
            "2000 test samples\n"
          ],
          "name": "stdout"
        }
      ]
    },
    {
      "metadata": {
        "id": "K7N-8h75w40U",
        "colab_type": "code",
        "colab": {
          "base_uri": "https://localhost:8080/",
          "height": 34
        },
        "outputId": "d4c92389-945e-49ec-be22-2d6702ca70fc"
      },
      "cell_type": "code",
      "source": [
        "\n",
        "y_train = keras.utils.to_categorical(y,num_classes)\n",
        "#y_test = keras.utils.to_categorical(y_test, num_classes)\n",
        "print(y_train[7000])"
      ],
      "execution_count": 159,
      "outputs": [
        {
          "output_type": "stream",
          "text": [
            "[0. 0. 0. 1.]\n"
          ],
          "name": "stdout"
        }
      ]
    },
    {
      "metadata": {
        "id": "SU5yXaGgY45L",
        "colab_type": "code",
        "colab": {}
      },
      "cell_type": "code",
      "source": [
        "classifier = Sequential()\n"
      ],
      "execution_count": 0,
      "outputs": []
    },
    {
      "metadata": {
        "id": "ni6ZNCnkekKD",
        "colab_type": "code",
        "colab": {}
      },
      "cell_type": "code",
      "source": [
        "input_shape = (28, 28, 1)"
      ],
      "execution_count": 0,
      "outputs": []
    },
    {
      "metadata": {
        "id": "0gFiRn56go8L",
        "colab_type": "code",
        "colab": {}
      },
      "cell_type": "code",
      "source": [
        "#CONVOLUTION MODEL BUILT\n",
        "\n",
        "# Step 1 - Convolution\n",
        "classifier.add(Conv2D(32, (3, 3), input_shape = (28, 28, 1), activation = 'relu'))\n",
        "\n",
        "# Step 2 - Pooling\n",
        "classifier.add(MaxPooling2D(pool_size = (2, 2)))\n",
        "\n",
        "# Adding a second convolutional layer\n",
        "classifier.add(Conv2D(64, (3, 3), activation = 'relu'))\n",
        "classifier.add(MaxPooling2D(pool_size = (2, 2)))\n",
        "\n",
        "# Adding a second convolutional layer\n",
        "classifier.add(Conv2D(64, (3, 3), activation = 'relu'))\n",
        "classifier.add(MaxPooling2D(pool_size = (2, 2)))\n",
        "\n",
        "# Step 3 - Flattening\n",
        "classifier.add(Flatten())\n",
        "\n",
        "# Step 4 - Full connection\n",
        "classifier.add(Dense(units = 64, activation = 'relu'))\n",
        "classifier.add(Dense(units = 4, activation = 'softmax'))\n"
      ],
      "execution_count": 0,
      "outputs": []
    },
    {
      "metadata": {
        "id": "fghhaDs_Y42o",
        "colab_type": "code",
        "colab": {}
      },
      "cell_type": "code",
      "source": [
        "classifier.compile(loss=keras.losses.categorical_crossentropy,\n",
        "              optimizer=keras.optimizers.Adadelta(),\n",
        "              metrics=['accuracy'])\n",
        "#classifier.compile(optimizer = 'adam', loss = 'binary_crossentropy', metrics = ['accuracy'])"
      ],
      "execution_count": 0,
      "outputs": []
    },
    {
      "metadata": {
        "id": "O81NvEjVZDox",
        "colab_type": "code",
        "colab": {
          "base_uri": "https://localhost:8080/",
          "height": 746
        },
        "outputId": "3641f131-4a34-4038-fa98-529be3a1f73e"
      },
      "cell_type": "code",
      "source": [
        "classifier.fit(x = x_train, y = y_train, \n",
        "          validation_split=0.1, \n",
        "          batch_size = batch_size, \n",
        "          verbose=2, \n",
        "          epochs=epochs)\n",
        "\n"
      ],
      "execution_count": 169,
      "outputs": [
        {
          "output_type": "stream",
          "text": [
            "Train on 7200 samples, validate on 800 samples\n",
            "Epoch 1/20\n",
            " - 7s - loss: 1.1510 - acc: 0.5099 - val_loss: 2.0398 - val_acc: 0.0000e+00\n",
            "Epoch 2/20\n",
            " - 7s - loss: 0.7756 - acc: 0.7024 - val_loss: 1.6748 - val_acc: 0.0262\n",
            "Epoch 3/20\n",
            " - 7s - loss: 0.6806 - acc: 0.7318 - val_loss: 1.6073 - val_acc: 0.0287\n",
            "Epoch 4/20\n",
            " - 7s - loss: 0.6377 - acc: 0.7397 - val_loss: 1.8995 - val_acc: 0.0125\n",
            "Epoch 5/20\n",
            " - 7s - loss: 0.6177 - acc: 0.7472 - val_loss: 1.6924 - val_acc: 0.0062\n",
            "Epoch 6/20\n",
            " - 7s - loss: 0.5851 - acc: 0.7657 - val_loss: 1.4051 - val_acc: 0.0700\n",
            "Epoch 7/20\n",
            " - 8s - loss: 0.5647 - acc: 0.7737 - val_loss: 1.2239 - val_acc: 0.2950\n",
            "Epoch 8/20\n",
            " - 7s - loss: 0.5332 - acc: 0.7885 - val_loss: 1.1570 - val_acc: 0.3713\n",
            "Epoch 9/20\n",
            " - 8s - loss: 0.5087 - acc: 0.8022 - val_loss: 1.2900 - val_acc: 0.3263\n",
            "Epoch 10/20\n",
            " - 8s - loss: 0.4791 - acc: 0.8115 - val_loss: 1.1563 - val_acc: 0.3787\n",
            "Epoch 11/20\n",
            " - 7s - loss: 0.4587 - acc: 0.8239 - val_loss: 0.6734 - val_acc: 0.6575\n",
            "Epoch 12/20\n",
            " - 7s - loss: 0.4499 - acc: 0.8296 - val_loss: 1.2692 - val_acc: 0.4075\n",
            "Epoch 13/20\n",
            " - 7s - loss: 0.4310 - acc: 0.8372 - val_loss: 0.4404 - val_acc: 0.7987\n",
            "Epoch 14/20\n",
            " - 7s - loss: 0.4200 - acc: 0.8410 - val_loss: 0.7652 - val_acc: 0.6388\n",
            "Epoch 15/20\n",
            " - 7s - loss: 0.4064 - acc: 0.8465 - val_loss: 1.0774 - val_acc: 0.5175\n",
            "Epoch 16/20\n",
            " - 7s - loss: 0.3902 - acc: 0.8511 - val_loss: 1.2207 - val_acc: 0.4625\n",
            "Epoch 17/20\n",
            " - 7s - loss: 0.3855 - acc: 0.8531 - val_loss: 0.8575 - val_acc: 0.5925\n",
            "Epoch 18/20\n",
            " - 7s - loss: 0.3806 - acc: 0.8576 - val_loss: 1.0714 - val_acc: 0.4975\n",
            "Epoch 19/20\n",
            " - 7s - loss: 0.3720 - acc: 0.8586 - val_loss: 0.6632 - val_acc: 0.6962\n",
            "Epoch 20/20\n",
            " - 7s - loss: 0.3600 - acc: 0.8614 - val_loss: 0.6822 - val_acc: 0.6650\n"
          ],
          "name": "stdout"
        },
        {
          "output_type": "execute_result",
          "data": {
            "text/plain": [
              "<keras.callbacks.History at 0x7f7d0769af60>"
            ]
          },
          "metadata": {
            "tags": []
          },
          "execution_count": 169
        }
      ]
    },
    {
      "metadata": {
        "id": "hzt7dczwVJ_K",
        "colab_type": "code",
        "colab": {
          "base_uri": "https://localhost:8080/",
          "height": 202
        },
        "outputId": "169a6c04-8a38-4ce7-e9a6-db5e2f2f2474"
      },
      "cell_type": "code",
      "source": [
        ""
      ],
      "execution_count": 170,
      "outputs": [
        {
          "output_type": "error",
          "ename": "NameError",
          "evalue": "ignored",
          "traceback": [
            "\u001b[0;31m---------------------------------------------------------------------------\u001b[0m",
            "\u001b[0;31mNameError\u001b[0m                                 Traceback (most recent call last)",
            "\u001b[0;32m<ipython-input-170-54886e965069>\u001b[0m in \u001b[0;36m<module>\u001b[0;34m()\u001b[0m\n\u001b[0;32m----> 1\u001b[0;31m \u001b[0mscore\u001b[0m \u001b[0;34m=\u001b[0m \u001b[0mclassifier\u001b[0m\u001b[0;34m.\u001b[0m\u001b[0mevaluate\u001b[0m\u001b[0;34m(\u001b[0m\u001b[0mX_test\u001b[0m\u001b[0;34m,\u001b[0m \u001b[0my_test\u001b[0m\u001b[0;34m,\u001b[0m \u001b[0mverbose\u001b[0m\u001b[0;34m=\u001b[0m\u001b[0;36m0\u001b[0m\u001b[0;34m)\u001b[0m\u001b[0;34m\u001b[0m\u001b[0;34m\u001b[0m\u001b[0m\n\u001b[0m\u001b[1;32m      2\u001b[0m \u001b[0mprint\u001b[0m\u001b[0;34m(\u001b[0m\u001b[0;34m'Test loss:'\u001b[0m\u001b[0;34m,\u001b[0m \u001b[0mscore\u001b[0m\u001b[0;34m[\u001b[0m\u001b[0;36m0\u001b[0m\u001b[0;34m]\u001b[0m\u001b[0;34m)\u001b[0m \u001b[0;31m#Test loss: 0.0296396646054\u001b[0m\u001b[0;34m\u001b[0m\u001b[0;34m\u001b[0m\u001b[0m\n\u001b[1;32m      3\u001b[0m \u001b[0mprint\u001b[0m\u001b[0;34m(\u001b[0m\u001b[0;34m'Test accuracy:'\u001b[0m\u001b[0;34m,\u001b[0m \u001b[0mscore\u001b[0m\u001b[0;34m[\u001b[0m\u001b[0;36m1\u001b[0m\u001b[0;34m]\u001b[0m\u001b[0;34m)\u001b[0m \u001b[0;31m#Test accuracy: 0.9904\u001b[0m\u001b[0;34m\u001b[0m\u001b[0;34m\u001b[0m\u001b[0m\n",
            "\u001b[0;31mNameError\u001b[0m: name 'X_test' is not defined"
          ]
        }
      ]
    },
    {
      "metadata": {
        "id": "zSmFeREffRzs",
        "colab_type": "code",
        "colab": {
          "base_uri": "https://localhost:8080/",
          "height": 139
        },
        "outputId": "16866437-4775-4962-c050-0754f3dae5fb"
      },
      "cell_type": "code",
      "source": [
        "\n",
        "predictions = classifier.predict(x_test)\n",
        "print(predictions)\n"
      ],
      "execution_count": 172,
      "outputs": [
        {
          "output_type": "stream",
          "text": [
            "[[9.46962953e-01 1.03357066e-04 3.11562937e-04 5.26220091e-02]\n",
            " [5.88007033e-01 2.16927491e-02 4.97653522e-02 3.40534896e-01]\n",
            " [8.34456861e-01 6.59859157e-04 5.44958282e-04 1.64338440e-01]\n",
            " ...\n",
            " [3.57698292e-01 3.38335074e-02 1.15336888e-01 4.93131340e-01]\n",
            " [6.01575477e-04 1.73920882e-03 7.01953031e-05 9.97588992e-01]\n",
            " [3.19402921e-03 3.15531611e-01 5.26887178e-03 6.76005483e-01]]\n"
          ],
          "name": "stdout"
        }
      ]
    },
    {
      "metadata": {
        "id": "rW8KzWw3f2V8",
        "colab_type": "code",
        "colab": {
          "base_uri": "https://localhost:8080/",
          "height": 237
        },
        "outputId": "393c8a2f-796a-4a19-a835-36382f02ca07"
      },
      "cell_type": "code",
      "source": [
        "import csv\n",
        "with open('persons.csv', 'wb') as csvfile:\n",
        "  filewriter = csv.writer(csvfile, delimiter=',',\n",
        "                            quotechar='|', quoting=csv.QUOTE_MINIMAL)\n",
        "  k=0\n",
        "  filewriter.writerow(\"Test_image_index\", \"predicted class\")\n",
        "  #for i in predictions:\n",
        "   # p = str(k)\n",
        "    #q= str(i)\n",
        "    #filewriter.writerow()\n",
        "     # filewriter.writerow()\n",
        "    #k= k+1"
      ],
      "execution_count": 74,
      "outputs": [
        {
          "output_type": "error",
          "ename": "TypeError",
          "evalue": "ignored",
          "traceback": [
            "\u001b[0;31m---------------------------------------------------------------------------\u001b[0m",
            "\u001b[0;31mTypeError\u001b[0m                                 Traceback (most recent call last)",
            "\u001b[0;32m<ipython-input-74-74a7f0382c94>\u001b[0m in \u001b[0;36m<module>\u001b[0;34m()\u001b[0m\n\u001b[1;32m      4\u001b[0m                             quotechar='|', quoting=csv.QUOTE_MINIMAL)\n\u001b[1;32m      5\u001b[0m   \u001b[0mk\u001b[0m\u001b[0;34m=\u001b[0m\u001b[0;36m0\u001b[0m\u001b[0;34m\u001b[0m\u001b[0;34m\u001b[0m\u001b[0m\n\u001b[0;32m----> 6\u001b[0;31m   \u001b[0mfilewriter\u001b[0m\u001b[0;34m.\u001b[0m\u001b[0mwriterow\u001b[0m\u001b[0;34m(\u001b[0m\u001b[0;34m\"Test_image_index\"\u001b[0m\u001b[0;34m,\u001b[0m \u001b[0;34m\"predicted class\"\u001b[0m\u001b[0;34m)\u001b[0m\u001b[0;34m\u001b[0m\u001b[0;34m\u001b[0m\u001b[0m\n\u001b[0m\u001b[1;32m      7\u001b[0m   \u001b[0;31m#for i in predictions:\u001b[0m\u001b[0;34m\u001b[0m\u001b[0;34m\u001b[0m\u001b[0;34m\u001b[0m\u001b[0m\n\u001b[1;32m      8\u001b[0m    \u001b[0;31m# p = str(k)\u001b[0m\u001b[0;34m\u001b[0m\u001b[0;34m\u001b[0m\u001b[0;34m\u001b[0m\u001b[0m\n",
            "\u001b[0;31mTypeError\u001b[0m: writerow() takes exactly one argument (2 given)"
          ]
        }
      ]
    }
  ]
}