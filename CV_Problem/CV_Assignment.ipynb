{
  "nbformat": 4,
  "nbformat_minor": 0,
  "metadata": {
    "colab": {
      "name": "Computer_vision_assignment.ipynb",
      "version": "0.3.2",
      "provenance": [],
      "collapsed_sections": [],
      "include_colab_link": true
    },
    "kernelspec": {
      "name": "python3",
      "display_name": "Python 3"
    }
  },
  "cells": [
    {
      "cell_type": "markdown",
      "metadata": {
        "id": "view-in-github",
        "colab_type": "text"
      },
      "source": [
        "<a href=\"https://colab.research.google.com/github/aarna97pandey/MIDASS-IIITD-Summer-Internship-Task/blob/master/CV_Problem/CV_Assignment.ipynb\" target=\"_parent\"><img src=\"https://colab.research.google.com/assets/colab-badge.svg\" alt=\"Open In Colab\"/></a>"
      ]
    },
    {
      "metadata": {
        "id": "irIFtg4xP7io",
        "colab_type": "code",
        "outputId": "c62fa2f2-8e11-419f-8d89-b58c18c50f3d",
        "colab": {
          "base_uri": "https://localhost:8080/",
          "height": 34
        }
      },
      "cell_type": "code",
      "source": [
        "#Connecting the notebook to the Drive\n",
        "from google.colab import drive\n",
        "drive.mount('/content/gdrive')\n"
      ],
      "execution_count": 1,
      "outputs": [
        {
          "output_type": "stream",
          "text": [
            "Drive already mounted at /content/gdrive; to attempt to forcibly remount, call drive.mount(\"/content/gdrive\", force_remount=True).\n"
          ],
          "name": "stdout"
        }
      ]
    },
    {
      "metadata": {
        "id": "rSaEZeg85_kE",
        "colab_type": "code",
        "colab": {}
      },
      "cell_type": "code",
      "source": [
        "#Import the gdrive\n",
        "from google.colab import drive"
      ],
      "execution_count": 0,
      "outputs": []
    },
    {
      "metadata": {
        "id": "aYR_8l28QEGX",
        "colab_type": "code",
        "colab": {}
      },
      "cell_type": "code",
      "source": [
        "#Libraries for preprocessing\n",
        "%matplotlib inline \n",
        "import matplotlib.pyplot as plt\n",
        "import numpy as np\n",
        "import pickle\n",
        "import csv"
      ],
      "execution_count": 0,
      "outputs": []
    },
    {
      "metadata": {
        "id": "NG7EVNA2nwxY",
        "colab_type": "code",
        "outputId": "d9677804-ec8b-4f33-b592-3e9799765738",
        "colab": {
          "base_uri": "https://localhost:8080/",
          "height": 69
        }
      },
      "cell_type": "code",
      "source": [
        "#Importing the train set and labels\n",
        "train_setX=[]\n",
        "with open('/content/gdrive/My Drive/Colab Notebooks/IIIT Delhi Assignment/Vision_task_dataset_public/train_image.pkl', 'rb') as files:\n",
        "      train_setX=pickle.load(files)\n",
        "\n",
        "train_setY=[]\n",
        "with open('/content/gdrive/My Drive/Colab Notebooks/IIIT Delhi Assignment/Vision_task_dataset_public/train_label.pkl', 'rb') as files:\n",
        "    train_setY = pickle.load(files)\n",
        " \n",
        "  \n",
        "Img = len(train_setX)     # no images in train set\n",
        "print(len(train_setY))    # no of labels\n",
        "print(len(train_setX[0])) # heightXWidth  \n",
        "print(Img)   \n"
      ],
      "execution_count": 4,
      "outputs": [
        {
          "output_type": "stream",
          "text": [
            "8000\n",
            "784\n",
            "8000\n"
          ],
          "name": "stdout"
        }
      ]
    },
    {
      "metadata": {
        "id": "NyxhIPJJLmgN",
        "colab_type": "code",
        "colab": {}
      },
      "cell_type": "code",
      "source": [
        "#No of row and columns\n",
        "nR = 28\n",
        "nC = 28"
      ],
      "execution_count": 0,
      "outputs": []
    },
    {
      "metadata": {
        "id": "H1ijDcHbX3eu",
        "colab_type": "code",
        "outputId": "db288420-41f7-48a5-9276-1f0a19801e52",
        "colab": {
          "base_uri": "https://localhost:8080/",
          "height": 34
        }
      },
      "cell_type": "code",
      "source": [
        "#Total no of bytes\n",
        "nBytesTotal = Img*nR*nC*1  #since each pixel data is 1 byte\n",
        "print(nBytesTotal)\n"
      ],
      "execution_count": 6,
      "outputs": [
        {
          "output_type": "stream",
          "text": [
            "6272000\n"
          ],
          "name": "stdout"
        }
      ]
    },
    {
      "metadata": {
        "id": "p38TqwTCC47b",
        "colab_type": "code",
        "outputId": "f8bffd0b-a5b6-4b70-dcbe-1d4683be45af",
        "colab": {
          "base_uri": "https://localhost:8080/",
          "height": 34
        }
      },
      "cell_type": "code",
      "source": [
        "#Converting the image in numpy array\n",
        "train_setX = np.array(train_setX)/255\n",
        "train_image_array= train_setX.reshape(Img,nR, nC)\n",
        "train_image_array= np.array(train_image_array)\n",
        "print(train_image_array.shape)"
      ],
      "execution_count": 7,
      "outputs": [
        {
          "output_type": "stream",
          "text": [
            "(8000, 28, 28)\n"
          ],
          "name": "stdout"
        }
      ]
    },
    {
      "metadata": {
        "id": "yCgkJAFQF5B4",
        "colab_type": "code",
        "outputId": "4dd8b7be-f859-423d-9397-5cd3b744ee6e",
        "colab": {
          "base_uri": "https://localhost:8080/",
          "height": 52
        }
      },
      "cell_type": "code",
      "source": [
        "#Converting the labels in numpy array\n",
        "train_label_array = np.array(train_setY)\n",
        "print(train_label_array)\n",
        "print(len(train_label_array))"
      ],
      "execution_count": 8,
      "outputs": [
        {
          "output_type": "stream",
          "text": [
            "[0 0 0 ... 6 6 6]\n",
            "8000\n"
          ],
          "name": "stdout"
        }
      ]
    },
    {
      "metadata": {
        "id": "Yo4BJYwKX3-W",
        "colab_type": "code",
        "outputId": "012cf75e-5e84-47c2-a70b-378c17375759",
        "colab": {
          "base_uri": "https://localhost:8080/",
          "height": 286
        }
      },
      "cell_type": "code",
      "source": [
        "#Plotting the images\n",
        "x = train_image_array[0]\n",
        "plt.imshow(x)"
      ],
      "execution_count": 9,
      "outputs": [
        {
          "output_type": "execute_result",
          "data": {
            "text/plain": [
              "<matplotlib.image.AxesImage at 0x7f5bb4ce9898>"
            ]
          },
          "metadata": {
            "tags": []
          },
          "execution_count": 9
        },
        {
          "output_type": "display_data",
          "data": {
            "image/png": "[encoded data removed]",
            "text/plain": [
              "<Figure size 432x288 with 1 Axes>"
            ]
          },
          "metadata": {
            "tags": []
          }
        }
      ]
    },
    {
      "metadata": {
        "id": "e2wcUIN9Mw0D",
        "colab_type": "code",
        "outputId": "ade396cc-6e04-4aef-810a-caab780e7123",
        "colab": {
          "base_uri": "https://localhost:8080/",
          "height": 52
        }
      },
      "cell_type": "code",
      "source": [
        "#Importing the test images\n",
        "test_setX=[]\n",
        "with open('/content/gdrive/My Drive/Colab Notebooks/IIIT Delhi Assignment/Vision_task_dataset_public/test_image.pkl', 'rb') as files:\n",
        "      test_setX=pickle.load(files)\n",
        "print(len(test_setX))   # no images in test set    \n",
        "print(len(test_setX[0]))\n",
        "\n",
        "test_setX = np.array(test_setX)/255\n",
        "test_image_array = test_setX.reshape(2000, nR, nC)\n",
        "test_image_array = np.array(test_image_array)"
      ],
      "execution_count": 10,
      "outputs": [
        {
          "output_type": "stream",
          "text": [
            "2000\n",
            "784\n"
          ],
          "name": "stdout"
        }
      ]
    },
    {
      "metadata": {
        "id": "-EOqSixpW6S9",
        "colab_type": "text"
      },
      "cell_type": "markdown",
      "source": [
        "# Machine Learning Training Model\n"
      ]
    },
    {
      "metadata": {
        "id": "SknxyQhHPfSu",
        "colab_type": "code",
        "outputId": "0c6d9faf-10de-4647-e027-d28235d82771",
        "colab": {
          "base_uri": "https://localhost:8080/",
          "height": 34
        }
      },
      "cell_type": "code",
      "source": [
        "'''\n",
        "from sklearn.model_selection import train_test_split\n",
        "x_train, x_valid, y_train, y_valid = train_test_split(train_setX,train_label_array, test_size=0.20, random_state=4)\n",
        "\n",
        "from sklearn.neighbors import KNeighborsClassifier\n",
        "classifier = KNeighborsClassifier(n_neighbors = 5, metric = 'minkowski', p = 2)\n",
        "classifier.fit(x_train, y_train)\n",
        "y_pred = classifier.predict(x_valid)\n",
        "\n",
        "\n",
        "# compute classification accuracy for the logistic regression model\n",
        "from sklearn import metrics\n",
        "\n",
        "print(metrics.accuracy_score(y_valid, y_pred))\n",
        "'''\n",
        "\n",
        "\n",
        "#Not using the machine learning model as the accuracy calculated is quiet less\n",
        "#Moving toward the Neural network model\n",
        "#Building the Convolutional Neural Network Model"
      ],
      "execution_count": 11,
      "outputs": [
        {
          "output_type": "stream",
          "text": [
            "0.7825\n"
          ],
          "name": "stdout"
        }
      ]
    },
    {
      "metadata": {
        "id": "E6ouB-8SYYAc",
        "colab_type": "text"
      },
      "cell_type": "markdown",
      "source": [
        "#  Building the training model  # CNN"
      ]
    },
    {
      "metadata": {
        "id": "HHs_aCPdS9mb",
        "colab_type": "code",
        "outputId": "30c35c68-89be-4532-c953-21b033c4bf43",
        "colab": {
          "base_uri": "https://localhost:8080/",
          "height": 34
        }
      },
      "cell_type": "code",
      "source": [
        "# Importing Libraries for training dataset\n",
        "import keras\n",
        "from keras.models import Sequential\n",
        "from keras.layers import Dense, Dropout, Flatten\n",
        "from keras.layers import Conv2D, MaxPooling2D"
      ],
      "execution_count": 12,
      "outputs": [
        {
          "output_type": "stream",
          "text": [
            "Using TensorFlow backend.\n"
          ],
          "name": "stderr"
        }
      ]
    },
    {
      "metadata": {
        "id": "PTB6G8lQYnjF",
        "colab_type": "code",
        "colab": {}
      },
      "cell_type": "code",
      "source": [
        "#Training specification\n",
        "batch_size = 200\n",
        "epochs = 20\n",
        "num_classes = 4"
      ],
      "execution_count": 0,
      "outputs": []
    },
    {
      "metadata": {
        "id": "px6aYDUjMHy-",
        "colab_type": "code",
        "outputId": "d94690ce-b475-4404-eb46-1991f00ecbf8",
        "colab": {
          "base_uri": "https://localhost:8080/",
          "height": 139
        }
      },
      "cell_type": "code",
      "source": [
        "#Converting the labels in array using MultiLabelBinerizer\n",
        "train_label_array = train_label_array.reshape(len(train_setY),1)\n",
        "\n",
        "from sklearn.preprocessing import MultiLabelBinarizer\n",
        "multiBinerizer = MultiLabelBinarizer()\n",
        "train_label_array=multiBinerizer.fit_transform(train_label_array)\n",
        "print(train_label_array)"
      ],
      "execution_count": 14,
      "outputs": [
        {
          "output_type": "stream",
          "text": [
            "[[1 0 0 0]\n",
            " [1 0 0 0]\n",
            " [1 0 0 0]\n",
            " ...\n",
            " [0 0 0 1]\n",
            " [0 0 0 1]\n",
            " [0 0 0 1]]\n"
          ],
          "name": "stdout"
        }
      ]
    },
    {
      "metadata": {
        "id": "tvLfgK7gYoEC",
        "colab_type": "code",
        "outputId": "27d7f0f2-30f7-485e-d5a7-bc3021c6b079",
        "colab": {
          "base_uri": "https://localhost:8080/",
          "height": 52
        }
      },
      "cell_type": "code",
      "source": [
        "#Train image and label renaming\n",
        "x_train = train_image_array\n",
        "y_train = train_label_array\n",
        "print(x_train.shape)\n",
        "print(y_train.shape)"
      ],
      "execution_count": 15,
      "outputs": [
        {
          "output_type": "stream",
          "text": [
            "(8000, 28, 28)\n",
            "(8000, 4)\n"
          ],
          "name": "stdout"
        }
      ]
    },
    {
      "metadata": {
        "id": "ReQP0HC8GOVJ",
        "colab_type": "code",
        "colab": {}
      },
      "cell_type": "code",
      "source": [
        "x_test = test_image_array"
      ],
      "execution_count": 0,
      "outputs": []
    },
    {
      "metadata": {
        "id": "51x7WB86Yy4l",
        "colab_type": "code",
        "colab": {}
      },
      "cell_type": "code",
      "source": [
        "x_train = x_train.reshape(8000,28,28,1)\n"
      ],
      "execution_count": 0,
      "outputs": []
    },
    {
      "metadata": {
        "id": "mz2hTPoyGS6U",
        "colab_type": "code",
        "colab": {}
      },
      "cell_type": "code",
      "source": [
        "x_test = x_test.reshape(2000,28,28,1)"
      ],
      "execution_count": 0,
      "outputs": []
    },
    {
      "metadata": {
        "id": "zBG6jr7IcnE0",
        "colab_type": "code",
        "outputId": "930b4780-f63a-4864-94ae-a1da0bced352",
        "colab": {
          "base_uri": "https://localhost:8080/",
          "height": 69
        }
      },
      "cell_type": "code",
      "source": [
        "#validating the dimensions of train set\n",
        "print('x_train shape:', x_train.shape)\n",
        "print(x_train.shape[0], 'train samples')\n",
        "print('Y train: ', y_train.shape)\n"
      ],
      "execution_count": 19,
      "outputs": [
        {
          "output_type": "stream",
          "text": [
            "x_train shape: (8000, 28, 28, 1)\n",
            "8000 train samples\n",
            "Y train:  (8000, 4)\n"
          ],
          "name": "stdout"
        }
      ]
    },
    {
      "metadata": {
        "id": "vJgFRvfKGkD-",
        "colab_type": "code",
        "outputId": "87329e12-70ec-431d-da45-a47b5ce80cf7",
        "colab": {
          "base_uri": "https://localhost:8080/",
          "height": 52
        }
      },
      "cell_type": "code",
      "source": [
        "# validating the dimensions of test set\n",
        "print('x_test shape:', x_test.shape)\n",
        "print(x_test.shape[0], 'test samples')"
      ],
      "execution_count": 20,
      "outputs": [
        {
          "output_type": "stream",
          "text": [
            "x_test shape: (2000, 28, 28, 1)\n",
            "2000 test samples\n"
          ],
          "name": "stdout"
        }
      ]
    },
    {
      "metadata": {
        "id": "ZLHPWoVBvJtA",
        "colab_type": "text"
      },
      "cell_type": "markdown",
      "source": [
        "Convolutional Neural Network Model Train\n",
        "\n"
      ]
    },
    {
      "metadata": {
        "id": "SU5yXaGgY45L",
        "colab_type": "code",
        "colab": {}
      },
      "cell_type": "code",
      "source": [
        "# building the model\n",
        "classifier = Sequential()\n"
      ],
      "execution_count": 0,
      "outputs": []
    },
    {
      "metadata": {
        "id": "0gFiRn56go8L",
        "colab_type": "code",
        "colab": {}
      },
      "cell_type": "code",
      "source": [
        "\n",
        "# Step 1 - Convolution\n",
        "classifier.add(Conv2D(32, (3, 3), input_shape = (28, 28, 1), activation = 'relu'))\n",
        "\n",
        "# Step 2 - Pooling\n",
        "classifier.add(MaxPooling2D(pool_size = (2, 2)))\n",
        "\n",
        "# Adding a second convolutional layer\n",
        "classifier.add(Conv2D(64, (3, 3), activation = 'relu'))\n",
        "classifier.add(MaxPooling2D(pool_size = (2, 2)))\n",
        "\n",
        "# Adding a second convolutional layer\n",
        "classifier.add(Conv2D(64, (3, 3), activation = 'relu'))\n",
        "classifier.add(MaxPooling2D(pool_size = (2, 2)))\n",
        "\n",
        "# Step 3 - Flattening\n",
        "classifier.add(Flatten())\n",
        "\n",
        "# Step 4 - Full connection\n",
        "classifier.add(Dense(units = 64, activation = 'relu'))\n",
        "classifier.add(Dense(units = 4, activation = 'softmax'))\n"
      ],
      "execution_count": 0,
      "outputs": []
    },
    {
      "metadata": {
        "id": "fghhaDs_Y42o",
        "colab_type": "code",
        "colab": {}
      },
      "cell_type": "code",
      "source": [
        "classifier.compile(loss=keras.losses.categorical_crossentropy,\n",
        "              optimizer=keras.optimizers.Adadelta(),\n",
        "              metrics=['accuracy'])"
      ],
      "execution_count": 0,
      "outputs": []
    },
    {
      "metadata": {
        "id": "O81NvEjVZDox",
        "colab_type": "code",
        "outputId": "c59b9cdd-7edb-4788-ba6e-29e4b0546bc8",
        "colab": {
          "base_uri": "https://localhost:8080/",
          "height": 819
        }
      },
      "cell_type": "code",
      "source": [
        "#Fit the classifier to the train set\n",
        "classifier.fit(x = x_train, y = y_train, \n",
        "          validation_split=0.1, \n",
        "          batch_size = batch_size, \n",
        "          verbose=2, \n",
        "          epochs=epochs,\n",
        "          shuffle= True)  # allowing shuffle as our image are least random\n",
        "\n"
      ],
      "execution_count": 24,
      "outputs": [
        {
          "output_type": "stream",
          "text": [
            "WARNING:tensorflow:From /usr/local/lib/python3.6/dist-packages/tensorflow/python/ops/math_ops.py:3066: to_int32 (from tensorflow.python.ops.math_ops) is deprecated and will be removed in a future version.\n",
            "Instructions for updating:\n",
            "Use tf.cast instead.\n",
            "Train on 7200 samples, validate on 800 samples\n",
            "Epoch 1/20\n",
            " - 7s - loss: 1.1262 - acc: 0.5306 - val_loss: 1.8188 - val_acc: 0.0000e+00\n",
            "Epoch 2/20\n",
            " - 7s - loss: 0.7558 - acc: 0.7078 - val_loss: 1.3709 - val_acc: 0.0387\n",
            "Epoch 3/20\n",
            " - 7s - loss: 0.6824 - acc: 0.7344 - val_loss: 1.7420 - val_acc: 0.0125\n",
            "Epoch 4/20\n",
            " - 7s - loss: 0.6447 - acc: 0.7453 - val_loss: 1.1279 - val_acc: 0.1162\n",
            "Epoch 5/20\n",
            " - 7s - loss: 0.6187 - acc: 0.7525 - val_loss: 1.2304 - val_acc: 0.0763\n",
            "Epoch 6/20\n",
            " - 7s - loss: 0.5844 - acc: 0.7643 - val_loss: 1.5114 - val_acc: 0.0638\n",
            "Epoch 7/20\n",
            " - 7s - loss: 0.5504 - acc: 0.7853 - val_loss: 1.3627 - val_acc: 0.1625\n",
            "Epoch 8/20\n",
            " - 7s - loss: 0.5223 - acc: 0.8004 - val_loss: 0.8408 - val_acc: 0.6012\n",
            "Epoch 9/20\n",
            " - 8s - loss: 0.5000 - acc: 0.8081 - val_loss: 0.8072 - val_acc: 0.5975\n",
            "Epoch 10/20\n",
            " - 7s - loss: 0.4715 - acc: 0.8183 - val_loss: 0.8108 - val_acc: 0.5750\n",
            "Epoch 11/20\n",
            " - 7s - loss: 0.4491 - acc: 0.8272 - val_loss: 1.4489 - val_acc: 0.3775\n",
            "Epoch 12/20\n",
            " - 7s - loss: 0.4409 - acc: 0.8335 - val_loss: 0.9587 - val_acc: 0.5137\n",
            "Epoch 13/20\n",
            " - 7s - loss: 0.4240 - acc: 0.8381 - val_loss: 1.4409 - val_acc: 0.3800\n",
            "Epoch 14/20\n",
            " - 7s - loss: 0.4156 - acc: 0.8381 - val_loss: 0.7608 - val_acc: 0.6425\n",
            "Epoch 15/20\n",
            " - 7s - loss: 0.3951 - acc: 0.8522 - val_loss: 0.9772 - val_acc: 0.5225\n",
            "Epoch 16/20\n",
            " - 7s - loss: 0.3918 - acc: 0.8503 - val_loss: 1.2984 - val_acc: 0.4275\n",
            "Epoch 17/20\n",
            " - 7s - loss: 0.3866 - acc: 0.8531 - val_loss: 0.7848 - val_acc: 0.6275\n",
            "Epoch 18/20\n",
            " - 7s - loss: 0.3710 - acc: 0.8583 - val_loss: 0.7817 - val_acc: 0.6637\n",
            "Epoch 19/20\n",
            " - 8s - loss: 0.3645 - acc: 0.8599 - val_loss: 1.3650 - val_acc: 0.4162\n",
            "Epoch 20/20\n",
            " - 7s - loss: 0.3531 - acc: 0.8672 - val_loss: 1.0271 - val_acc: 0.5663\n"
          ],
          "name": "stdout"
        },
        {
          "output_type": "execute_result",
          "data": {
            "text/plain": [
              "<keras.callbacks.History at 0x7f5b92b644a8>"
            ]
          },
          "metadata": {
            "tags": []
          },
          "execution_count": 24
        }
      ]
    },
    {
      "metadata": {
        "id": "zSmFeREffRzs",
        "colab_type": "code",
        "outputId": "62f054f3-9a90-4932-b873-f4b5c32c79f6",
        "colab": {
          "base_uri": "https://localhost:8080/",
          "height": 139
        }
      },
      "cell_type": "code",
      "source": [
        "#Making the predictions\n",
        "predictions = classifier.predict(x_test)\n",
        "print(predictions)"
      ],
      "execution_count": 25,
      "outputs": [
        {
          "output_type": "stream",
          "text": [
            "[[9.72948134e-01 7.23346748e-05 3.64535052e-04 2.66149640e-02]\n",
            " [6.22417748e-01 1.01744924e-02 1.44910797e-01 2.22496957e-01]\n",
            " [9.73303616e-01 8.71787022e-04 8.11433303e-04 2.50131730e-02]\n",
            " ...\n",
            " [2.12250367e-01 2.33927201e-02 2.56024033e-01 5.08332849e-01]\n",
            " [1.03863713e-03 1.53251225e-02 6.09158596e-04 9.83027160e-01]\n",
            " [1.29224244e-03 5.72836101e-01 1.43127777e-02 4.11558837e-01]]\n"
          ],
          "name": "stdout"
        }
      ]
    },
    {
      "metadata": {
        "id": "v13_oFps7toL",
        "colab_type": "code",
        "outputId": "f3b9e4ba-f565-4546-de12-ce98d1704ef0",
        "colab": {
          "base_uri": "https://localhost:8080/",
          "height": 139
        }
      },
      "cell_type": "code",
      "source": [
        "#Converting the prediction matrix into binary form\n",
        "for arr in predictions:\n",
        "  max_ = 0\n",
        "  for i in range(1,4):\n",
        "    if(arr[max_]<arr[i]):\n",
        "      max_ = i\n",
        "  for i in range(0,4):\n",
        "    if(max_ == i):\n",
        "      arr[i] = int(1)\n",
        "    else:\n",
        "      arr[i] = int(0)\n",
        "    \n",
        "print(predictions)"
      ],
      "execution_count": 26,
      "outputs": [
        {
          "output_type": "stream",
          "text": [
            "[[1. 0. 0. 0.]\n",
            " [1. 0. 0. 0.]\n",
            " [1. 0. 0. 0.]\n",
            " ...\n",
            " [0. 0. 0. 1.]\n",
            " [0. 0. 0. 1.]\n",
            " [0. 1. 0. 0.]]\n"
          ],
          "name": "stdout"
        }
      ]
    },
    {
      "metadata": {
        "id": "wEdC58tomfTv",
        "colab_type": "code",
        "colab": {}
      },
      "cell_type": "code",
      "source": [
        "#Inverse Binerization\n",
        "predictions = multiBinerizer.inverse_transform(predictions)"
      ],
      "execution_count": 0,
      "outputs": []
    },
    {
      "metadata": {
        "id": "rW8KzWw3f2V8",
        "colab_type": "code",
        "colab": {}
      },
      "cell_type": "code",
      "source": [
        "#Converting the prediction list of integers to string so that it can be easily written in CSV file\n",
        "predictions = [str(x[0]) for x in predictions]"
      ],
      "execution_count": 0,
      "outputs": []
    },
    {
      "metadata": {
        "id": "FTSi_B8g8YWr",
        "colab_type": "code",
        "outputId": "e4733344-841a-47ae-9498-cd605e600bee",
        "colab": {
          "base_uri": "https://localhost:8080/",
          "height": 54
        }
      },
      "cell_type": "code",
      "source": [
        "#Check the prediction list of strings\n",
        "print(predictions)"
      ],
      "execution_count": 29,
      "outputs": [
        {
          "output_type": "stream",
          "text": [
            "['0', '0', '0', '0', '0', '0', '0', '0', '0', '0', '0', '0', '0', '0', '0', '0', '0', '0', '0', '0', '0', '0', '0', '0', '0', '0', '0', '0', '0', '0', '0', '0', '0', '0', '6', '0', '0', '6', '0', '0', '0', '0', '0', '0', '0', '0', '0', '3', '0', '0', '0', '0', '0', '0', '0', '0', '0', '3', '0', '0', '0', '0', '0', '0', '3', '0', '0', '0', '0', '0', '0', '0', '3', '0', '6', '0', '0', '0', '0', '0', '0', '0', '3', '0', '0', '2', '0', '0', '0', '6', '0', '3', '0', '0', '0', '0', '0', '0', '0', '0', '0', '0', '0', '0', '0', '2', '0', '0', '2', '0', '0', '0', '0', '0', '3', '3', '0', '0', '0', '0', '0', '0', '0', '0', '3', '6', '3', '0', '0', '0', '0', '0', '0', '0', '0', '6', '0', '3', '0', '0', '0', '0', '2', '0', '0', '0', '0', '0', '0', '0', '0', '0', '0', '3', '0', '0', '0', '6', '0', '0', '3', '0', '0', '0', '0', '0', '0', '0', '0', '0', '0', '0', '0', '0', '0', '0', '0', '0', '0', '6', '0', '0', '0', '0', '0', '0', '0', '2', '0', '0', '0', '0', '3', '0', '0', '0', '0', '0', '0', '0', '0', '0', '0', '0', '0', '0', '0', '0', '0', '0', '0', '0', '0', '0', '2', '0', '0', '0', '0', '0', '0', '0', '0', '0', '0', '0', '2', '0', '0', '0', '0', '0', '0', '6', '0', '0', '0', '0', '0', '0', '0', '0', '0', '3', '0', '0', '0', '0', '6', '0', '0', '0', '0', '0', '2', '0', '0', '0', '0', '0', '2', '0', '0', '3', '2', '6', '0', '0', '0', '0', '0', '0', '2', '0', '0', '0', '0', '0', '0', '0', '0', '0', '0', '0', '0', '0', '0', '0', '2', '0', '0', '0', '0', '0', '0', '0', '0', '0', '0', '0', '0', '3', '0', '0', '0', '0', '0', '0', '0', '0', '0', '0', '0', '6', '0', '0', '0', '0', '0', '0', '0', '0', '0', '6', '0', '0', '0', '0', '2', '0', '0', '0', '0', '0', '3', '0', '0', '6', '0', '6', '0', '0', '0', '0', '0', '0', '0', '0', '0', '0', '0', '0', '0', '0', '0', '0', '0', '3', '0', '0', '3', '3', '0', '0', '0', '0', '0', '0', '0', '0', '0', '0', '0', '0', '0', '0', '0', '0', '0', '2', '0', '0', '0', '0', '0', '0', '0', '0', '0', '0', '0', '0', '0', '0', '3', '0', '0', '0', '0', '0', '2', '0', '0', '0', '0', '0', '0', '0', '0', '0', '2', '0', '0', '0', '0', '0', '0', '0', '0', '0', '0', '0', '0', '0', '0', '2', '3', '0', '0', '0', '0', '0', '0', '0', '0', '0', '6', '0', '3', '3', '0', '0', '0', '0', '0', '3', '0', '0', '0', '0', '0', '0', '0', '0', '0', '0', '0', '0', '0', '0', '0', '0', '3', '0', '0', '0', '0', '0', '0', '0', '0', '0', '0', '0', '3', '0', '0', '0', '0', '0', '0', '0', '0', '0', '0', '0', '0', '0', '0', '0', '0', '0', '0', '0', '0', '0', '3', '0', '0', '0', '2', '2', '2', '2', '2', '6', '2', '2', '3', '2', '2', '2', '2', '2', '3', '2', '2', '2', '2', '2', '2', '2', '2', '2', '2', '2', '2', '2', '2', '2', '2', '2', '2', '2', '2', '2', '6', '2', '3', '2', '2', '2', '2', '2', '2', '2', '2', '2', '2', '2', '2', '2', '6', '2', '2', '2', '2', '2', '2', '2', '2', '2', '2', '3', '2', '2', '2', '2', '2', '2', '2', '2', '2', '2', '2', '2', '3', '6', '2', '2', '2', '2', '2', '2', '2', '6', '2', '2', '2', '2', '0', '2', '0', '2', '2', '2', '2', '2', '2', '2', '6', '2', '2', '2', '2', '2', '2', '2', '6', '2', '2', '2', '2', '2', '2', '2', '2', '3', '2', '2', '2', '2', '2', '2', '2', '2', '2', '6', '2', '2', '2', '2', '2', '2', '2', '2', '2', '3', '2', '2', '2', '2', '6', '2', '0', '2', '2', '2', '2', '2', '2', '2', '2', '2', '2', '2', '2', '2', '2', '3', '2', '2', '2', '2', '3', '2', '2', '6', '2', '2', '2', '2', '2', '2', '2', '2', '2', '2', '2', '2', '6', '2', '2', '2', '2', '2', '2', '2', '2', '6', '2', '2', '2', '2', '3', '2', '2', '2', '2', '2', '2', '2', '2', '2', '2', '2', '2', '2', '2', '2', '2', '2', '2', '2', '3', '2', '2', '2', '2', '3', '2', '2', '3', '2', '2', '2', '3', '2', '2', '2', '2', '2', '2', '2', '2', '2', '2', '2', '2', '2', '2', '2', '2', '6', '6', '2', '2', '2', '2', '2', '6', '2', '2', '2', '2', '0', '2', '2', '2', '2', '2', '0', '2', '6', '2', '2', '2', '2', '2', '2', '2', '3', '2', '2', '2', '2', '3', '2', '2', '2', '2', '2', '2', '2', '3', '2', '2', '2', '2', '2', '2', '2', '2', '2', '6', '2', '2', '2', '6', '2', '2', '2', '2', '2', '2', '2', '2', '2', '2', '6', '2', '2', '2', '2', '2', '2', '2', '2', '2', '0', '2', '2', '2', '2', '2', '2', '2', '2', '2', '2', '2', '2', '6', '0', '2', '2', '2', '2', '2', '2', '2', '2', '6', '2', '2', '2', '2', '2', '2', '6', '2', '2', '2', '2', '2', '2', '2', '2', '2', '2', '6', '3', '2', '2', '2', '2', '3', '2', '2', '2', '2', '6', '3', '0', '3', '2', '2', '2', '2', '2', '2', '2', '2', '2', '2', '2', '2', '2', '2', '2', '6', '2', '2', '2', '2', '2', '2', '2', '2', '2', '6', '3', '2', '2', '2', '2', '2', '3', '2', '2', '2', '2', '2', '2', '2', '2', '2', '3', '2', '2', '2', '2', '2', '2', '6', '2', '2', '2', '2', '2', '2', '2', '2', '2', '2', '2', '2', '2', '2', '2', '2', '2', '2', '2', '3', '2', '2', '2', '0', '2', '2', '2', '2', '2', '2', '2', '2', '2', '2', '2', '6', '2', '2', '2', '2', '2', '2', '2', '2', '2', '2', '2', '2', '2', '2', '2', '2', '2', '2', '2', '2', '2', '2', '2', '2', '2', '2', '2', '2', '3', '2', '3', '2', '2', '2', '2', '2', '2', '2', '2', '3', '3', '3', '3', '3', '3', '3', '3', '3', '3', '3', '3', '3', '3', '3', '3', '3', '3', '3', '3', '3', '3', '3', '3', '3', '3', '3', '3', '3', '3', '3', '3', '3', '3', '3', '3', '3', '3', '3', '3', '3', '3', '3', '3', '3', '6', '3', '3', '3', '3', '3', '2', '3', '6', '3', '0', '3', '3', '3', '3', '6', '3', '3', '3', '3', '3', '3', '3', '3', '3', '3', '3', '3', '3', '3', '3', '3', '3', '3', '3', '3', '3', '3', '3', '3', '3', '3', '2', '0', '0', '3', '3', '3', '3', '3', '3', '3', '3', '3', '3', '3', '3', '3', '3', '3', '3', '3', '3', '3', '3', '3', '3', '3', '3', '3', '3', '3', '3', '3', '3', '3', '6', '3', '3', '3', '3', '3', '3', '3', '3', '3', '3', '3', '3', '3', '3', '3', '3', '3', '3', '3', '3', '3', '3', '3', '3', '3', '3', '3', '3', '3', '3', '3', '3', '3', '3', '3', '3', '3', '6', '3', '3', '3', '3', '3', '3', '3', '3', '3', '3', '3', '3', '3', '0', '3', '3', '3', '6', '3', '3', '3', '3', '3', '3', '3', '3', '3', '3', '3', '3', '3', '3', '3', '3', '3', '3', '3', '3', '3', '3', '3', '3', '3', '3', '3', '3', '3', '3', '3', '3', '3', '3', '3', '3', '3', '3', '3', '3', '3', '3', '3', '3', '3', '3', '3', '3', '3', '3', '3', '3', '3', '3', '3', '3', '3', '3', '3', '3', '3', '3', '3', '3', '3', '3', '3', '3', '3', '3', '3', '3', '3', '3', '3', '3', '3', '3', '3', '3', '3', '3', '3', '3', '0', '2', '3', '3', '3', '3', '3', '0', '3', '3', '3', '3', '3', '3', '3', '3', '3', '3', '2', '3', '3', '3', '3', '3', '3', '3', '3', '3', '3', '2', '3', '3', '3', '3', '3', '3', '3', '2', '3', '3', '3', '3', '3', '3', '3', '3', '3', '3', '3', '3', '3', '3', '3', '3', '3', '0', '3', '2', '3', '3', '3', '3', '3', '3', '3', '6', '0', '3', '3', '3', '3', '3', '3', '3', '3', '3', '3', '3', '3', '3', '2', '3', '3', '3', '3', '3', '3', '3', '3', '3', '3', '3', '3', '3', '3', '3', '3', '3', '3', '3', '3', '3', '2', '3', '3', '3', '3', '3', '3', '3', '3', '3', '3', '0', '3', '3', '3', '3', '3', '3', '3', '3', '3', '3', '3', '3', '3', '3', '3', '3', '3', '2', '3', '3', '3', '3', '3', '3', '0', '0', '3', '3', '3', '3', '6', '3', '3', '3', '3', '3', '3', '3', '3', '3', '3', '3', '3', '3', '3', '3', '3', '3', '3', '3', '3', '3', '3', '3', '3', '3', '3', '3', '3', '3', '3', '3', '3', '3', '3', '3', '3', '3', '3', '3', '0', '3', '3', '3', '3', '3', '3', '3', '3', '3', '6', '3', '3', '3', '3', '3', '3', '3', '3', '3', '3', '3', '3', '3', '3', '3', '3', '3', '3', '3', '3', '3', '3', '3', '3', '0', '3', '3', '3', '3', '3', '2', '3', '3', '3', '3', '3', '3', '3', '3', '3', '3', '3', '3', '6', '6', '6', '0', '6', '3', '2', '6', '6', '6', '6', '6', '3', '6', '2', '6', '6', '6', '6', '2', '6', '0', '6', '3', '2', '6', '6', '6', '6', '2', '6', '6', '2', '0', '6', '6', '2', '6', '6', '3', '0', '6', '6', '6', '2', '6', '0', '6', '6', '6', '6', '6', '0', '0', '0', '0', '0', '0', '2', '6', '0', '0', '6', '2', '6', '6', '6', '6', '6', '3', '6', '2', '2', '6', '6', '6', '2', '6', '6', '6', '6', '6', '2', '6', '6', '2', '6', '2', '6', '2', '6', '6', '0', '3', '0', '6', '6', '6', '6', '6', '6', '6', '6', '6', '0', '2', '6', '6', '2', '6', '6', '0', '6', '6', '6', '0', '6', '2', '6', '6', '0', '0', '0', '2', '0', '0', '0', '6', '6', '6', '0', '0', '6', '6', '6', '6', '6', '6', '6', '6', '0', '6', '6', '3', '2', '0', '2', '6', '2', '6', '2', '6', '6', '6', '0', '2', '6', '6', '0', '2', '0', '6', '6', '6', '0', '6', '6', '0', '6', '0', '6', '0', '6', '0', '6', '6', '2', '2', '0', '6', '6', '0', '6', '0', '6', '6', '6', '6', '6', '6', '6', '0', '2', '6', '0', '6', '6', '0', '0', '6', '6', '6', '6', '2', '0', '6', '6', '6', '6', '2', '6', '0', '0', '0', '2', '6', '0', '0', '6', '0', '6', '0', '0', '6', '2', '6', '6', '2', '0', '6', '0', '2', '0', '0', '6', '6', '2', '6', '0', '2', '3', '6', '6', '6', '0', '0', '0', '6', '6', '2', '6', '6', '3', '6', '3', '2', '2', '6', '6', '6', '6', '6', '0', '6', '2', '2', '6', '2', '6', '6', '6', '6', '0', '0', '0', '2', '0', '6', '2', '6', '2', '6', '2', '6', '6', '6', '6', '6', '6', '0', '2', '2', '6', '0', '2', '3', '6', '6', '0', '6', '3', '0', '6', '6', '2', '6', '6', '6', '6', '6', '6', '2', '2', '2', '0', '6', '2', '6', '2', '0', '0', '0', '6', '6', '0', '0', '3', '6', '3', '2', '6', '6', '6', '2', '2', '0', '6', '3', '6', '0', '0', '6', '0', '0', '6', '6', '2', '2', '6', '0', '0', '6', '6', '6', '6', '2', '0', '0', '6', '3', '2', '6', '6', '6', '6', '6', '6', '2', '6', '2', '6', '6', '0', '3', '6', '3', '6', '6', '3', '6', '2', '6', '0', '6', '6', '6', '6', '6', '0', '6', '6', '6', '0', '0', '6', '2', '6', '2', '0', '0', '6', '0', '3', '2', '0', '6', '6', '0', '0', '3', '6', '6', '0', '6', '6', '0', '6', '6', '6', '2', '0', '0', '2', '6', '2', '6', '6', '6', '6', '6', '6', '3', '2', '2', '6', '3', '0', '6', '6', '0', '3', '6', '6', '2', '6', '6', '6', '2', '6', '6', '6', '6', '0', '6', '2', '6', '0', '6', '3', '0', '0', '3', '6', '2', '6', '0', '6', '6', '2', '6', '0', '0', '6', '0', '0', '0', '6', '0', '2', '6', '6', '2', '0', '6', '3', '0', '3', '0', '2', '6', '6', '0', '6', '6', '3', '6', '6', '6', '6', '2']\n"
          ],
          "name": "stdout"
        }
      ]
    },
    {
      "metadata": {
        "id": "0-eoU1hz8-0v",
        "colab_type": "code",
        "colab": {}
      },
      "cell_type": "code",
      "source": [
        "#Creating the CSV and wrting the test image and their predicted class\n",
        "with open('/content/gdrive/My Drive/Lakshmi_Pandey.csv',\"w\") as outfile:\n",
        "    outfile.write(\"image_index\"+\",\"+\"class\")\n",
        "    outfile.write(\"\\n\")\n",
        "    for i in range(len(predictions)):\n",
        "        outfile.write(str(i)+\",\"+predictions[i])\n",
        "        outfile.write(\"\\n\")"
      ],
      "execution_count": 0,
      "outputs": []
    },
    {
      "metadata": {
        "id": "NBxUOUxn9i25",
        "colab_type": "code",
        "colab": {}
      },
      "cell_type": "code",
      "source": [
        "# The calculate accuracy in the train set is 86.72%\n",
        "#Thanks for IIIT Delhi for this opportunity"
      ],
      "execution_count": 0,
      "outputs": []
    }
  ]
}