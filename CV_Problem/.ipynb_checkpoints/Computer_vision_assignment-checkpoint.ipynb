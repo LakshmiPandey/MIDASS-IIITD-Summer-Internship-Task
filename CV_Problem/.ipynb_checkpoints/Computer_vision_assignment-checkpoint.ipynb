{
 "cells": [
  {
   "cell_type": "markdown",
   "metadata": {
    "colab_type": "text",
    "id": "view-in-github"
   },
   "source": [
    "<a href=\"https://colab.research.google.com/github/aarna97pandey/MIDASS-IIITD-Summer-Internship-Task/blob/master/Computer_vision_assignment.ipynb\" target=\"_parent\"><img src=\"https://colab.research.google.com/assets/colab-badge.svg\" alt=\"Open In Colab\"/></a>"
   ]
  },
  {
   "cell_type": "code",
   "execution_count": 7,
   "metadata": {
    "colab": {
     "base_uri": "https://localhost:8080/",
     "height": 34
    },
    "colab_type": "code",
    "id": "irIFtg4xP7io",
    "outputId": "8f564f72-4fc1-4f2c-add2-a27dcfda8394"
   },
   "outputs": [
    {
     "name": "stdout",
     "output_type": "stream",
     "text": [
      "Drive already mounted at /content/gdrive; to attempt to forcibly remount, call drive.mount(\"/content/gdrive\", force_remount=True).\n"
     ]
    }
   ],
   "source": [
    "#Connecting the notebook to the Drive file\n",
    "from google.colab import drive\n",
    "drive.mount('/content/gdrive')\n"
   ]
  },
  {
   "cell_type": "code",
   "execution_count": 0,
   "metadata": {
    "colab": {},
    "colab_type": "code",
    "id": "rSaEZeg85_kE"
   },
   "outputs": [],
   "source": [
    "# import the gdrive\n",
    "from google.colab import drive"
   ]
  },
  {
   "cell_type": "code",
   "execution_count": 0,
   "metadata": {
    "colab": {},
    "colab_type": "code",
    "id": "aYR_8l28QEGX"
   },
   "outputs": [],
   "source": [
    "#libraries for preprocessing\n",
    "%matplotlib inline \n",
    "from IPython.display import Image\n",
    "import matplotlib.pyplot as plt\n",
    "import numpy as np\n",
    "import pickle\n",
    "import cv2"
   ]
  },
  {
   "cell_type": "code",
   "execution_count": 10,
   "metadata": {
    "colab": {
     "base_uri": "https://localhost:8080/",
     "height": 69
    },
    "colab_type": "code",
    "id": "NG7EVNA2nwxY",
    "outputId": "5e93b498-ffcd-4a97-891e-b07aa63537d6"
   },
   "outputs": [
    {
     "name": "stdout",
     "output_type": "stream",
     "text": [
      "8000\n",
      "8000\n",
      "784\n"
     ]
    }
   ],
   "source": [
    "train_setX=[]\n",
    "with open('/content/gdrive/My Drive/Colab Notebooks/IIIT Delhi Assignment/Vision_task_dataset_public/train_image.pkl', 'rb') as files:\n",
    "      train_setX=pickle.load(files)\n",
    "\n",
    "train_setY=[]\n",
    "with open('/content/gdrive/My Drive/Colab Notebooks/IIIT Delhi Assignment/Vision_task_dataset_public/train_label.pkl', 'rb') as files:\n",
    "    train_setY = pickle.load(files)\n",
    " \n",
    "  \n",
    "Img = (len(train_setX))   # no images in train set\n",
    "print(Img)                \n",
    "print(len(train_setY))  # no of labels\n",
    "print(len(train_setX[0]))  # size of each image"
   ]
  },
  {
   "cell_type": "code",
   "execution_count": 11,
   "metadata": {
    "colab": {
     "base_uri": "https://localhost:8080/",
     "height": 52
    },
    "colab_type": "code",
    "id": "sL7LT49ZBb5t",
    "outputId": "06907235-053c-4435-d494-f46d69d025ba"
   },
   "outputs": [
    {
     "name": "stdout",
     "output_type": "stream",
     "text": [
      "2000\n",
      "784\n"
     ]
    }
   ],
   "source": [
    " test_setX=[]\n",
    "with open('/content/gdrive/My Drive/Colab Notebooks/IIIT Delhi Assignment/Vision_task_dataset_public/test_image.pkl', 'rb') as files:\n",
    "      test_setX=pickle.load(files)\n",
    "print(len(test_setX))   # no images in test set    \n",
    "print(len(test_setX[0]))"
   ]
  },
  {
   "cell_type": "code",
   "execution_count": 46,
   "metadata": {
    "colab": {
     "base_uri": "https://localhost:8080/",
     "height": 89
    },
    "colab_type": "code",
    "id": "wj1JOIn0tNCw",
    "outputId": "83e950c7-65f6-45d6-98dd-12c7b76ac3a3"
   },
   "outputs": [
    {
     "name": "stdout",
     "output_type": "stream",
     "text": [
      "784\n",
      "[0, 0, 0, 0, 0, 1, 0, 0, 0, 0, 41, 188, 103, 54, 48, 43, 87, 168, 133, 16, 0, 0, 0, 0, 0, 0, 0, 0, 0, 0, 0, 1, 0, 0, 0, 49, 136, 219, 216, 228, 236, 255, 255, 255, 255, 217, 215, 254, 231, 160, 45, 0, 0, 0, 0, 0, 0, 0, 0, 0, 0, 14, 176, 222, 224, 212, 203, 198, 196, 200, 215, 204, 202, 201, 201, 201, 209, 218, 224, 164, 0, 0, 0, 0, 0, 0, 0, 0, 0, 188, 219, 200, 198, 202, 198, 199, 199, 201, 196, 198, 198, 200, 200, 200, 200, 201, 200, 225, 41, 0, 0, 0, 0, 0, 0, 0, 51, 219, 199, 203, 203, 212, 238, 248, 250, 245, 249, 246, 247, 252, 248, 235, 207, 203, 203, 222, 140, 0, 0, 0, 0, 0, 0, 0, 116, 226, 206, 204, 207, 204, 101, 75, 47, 73, 48, 50, 45, 51, 63, 113, 222, 202, 206, 220, 224, 0, 0, 0, 0, 0, 0, 0, 200, 222, 209, 203, 215, 200, 0, 70, 98, 0, 103, 59, 68, 71, 49, 0, 219, 206, 214, 210, 250, 38, 0, 0, 0, 0, 0, 0, 247, 218, 212, 210, 215, 214, 0, 254, 243, 139, 255, 174, 251, 255, 205, 0, 215, 217, 214, 208, 220, 95, 0, 0, 0, 0, 0, 45, 226, 214, 214, 215, 224, 205, 0, 42, 35, 60, 16, 17, 12, 13, 70, 0, 189, 216, 212, 206, 212, 156, 0, 0, 0, 0, 0, 164, 235, 214, 211, 220, 216, 201, 52, 71, 89, 94, 83, 78, 70, 76, 92, 87, 206, 207, 222, 213, 219, 208, 0, 0, 0, 0, 0, 106, 187, 223, 237, 248, 211, 198, 252, 250, 248, 245, 248, 252, 253, 250, 252, 239, 201, 212, 225, 215, 193, 113, 0, 0, 0, 0, 0, 0, 0, 17, 54, 159, 222, 193, 208, 192, 197, 200, 200, 200, 200, 201, 203, 195, 210, 165, 0, 0, 0, 0, 0, 0, 0, 0, 0, 0, 0, 0, 0, 47, 225, 192, 214, 203, 206, 204, 204, 205, 206, 204, 212, 197, 218, 107, 0, 0, 0, 0, 0, 0, 0, 0, 0, 0, 1, 6, 0, 46, 212, 195, 212, 202, 206, 205, 204, 205, 206, 204, 212, 200, 218, 91, 0, 3, 1, 0, 0, 0, 0, 0, 0, 0, 0, 1, 0, 11, 197, 199, 205, 202, 205, 206, 204, 205, 207, 204, 205, 205, 218, 77, 0, 5, 0, 0, 0, 0, 0, 0, 0, 0, 0, 3, 0, 2, 191, 198, 201, 205, 206, 205, 205, 206, 209, 206, 199, 209, 219, 74, 0, 5, 0, 0, 0, 0, 0, 0, 0, 0, 0, 2, 0, 0, 188, 197, 200, 207, 207, 204, 207, 207, 210, 208, 198, 207, 221, 72, 0, 4, 0, 0, 0, 0, 0, 0, 0, 0, 0, 2, 0, 0, 215, 198, 203, 206, 208, 205, 207, 207, 210, 208, 200, 202, 222, 75, 0, 4, 0, 0, 0, 0, 0, 0, 0, 0, 0, 1, 0, 0, 212, 198, 209, 206, 209, 206, 208, 207, 211, 206, 205, 198, 221, 80, 0, 3, 0, 0, 0, 0, 0, 0, 0, 0, 0, 1, 0, 0, 204, 201, 205, 208, 207, 205, 211, 205, 210, 210, 209, 195, 221, 96, 0, 3, 0, 0, 0, 0, 0, 0, 0, 0, 0, 1, 0, 0, 202, 201, 205, 209, 207, 205, 213, 206, 210, 209, 210, 194, 217, 105, 0, 2, 0, 0, 0, 0, 0, 0, 0, 0, 0, 1, 0, 0, 204, 204, 205, 208, 207, 205, 215, 207, 210, 208, 211, 193, 213, 115, 0, 2, 0, 0, 0, 0, 0, 0, 0, 0, 0, 0, 0, 0, 204, 207, 207, 208, 206, 206, 215, 210, 210, 207, 212, 195, 210, 118, 0, 2, 0, 0, 0, 0, 0, 0, 0, 0, 0, 1, 0, 0, 198, 208, 208, 208, 204, 207, 212, 212, 210, 207, 211, 196, 207, 121, 0, 1, 0, 0, 0, 0, 0, 0, 0, 0, 0, 1, 0, 0, 198, 210, 207, 208, 206, 209, 213, 212, 211, 207, 210, 197, 207, 124, 0, 1, 0, 0, 0, 0, 0, 0, 0, 0, 0, 0, 0, 0, 172, 210, 203, 201, 199, 204, 207, 205, 204, 201, 205, 197, 206, 127, 0, 0, 0, 0, 0, 0, 0, 0, 0, 0, 0, 0, 0, 0, 188, 221, 214, 234, 236, 238, 244, 244, 244, 240, 243, 214, 224, 162, 0, 2, 0, 0, 0, 0, 0, 0, 0, 0, 0, 1, 0, 0, 139, 146, 130, 135, 135, 137, 125, 124, 125, 121, 119, 114, 130, 76, 0, 0, 0, 0, 0, 0]\n",
      "8000\n"
     ]
    }
   ],
   "source": [
    "# dimension of image\n",
    "print(len(train_setX[0]))   # heightXWidth\n",
    "print(train_setX[0])\n",
    "print(len(train_setY))"
   ]
  },
  {
   "cell_type": "code",
   "execution_count": 0,
   "metadata": {
    "colab": {},
    "colab_type": "code",
    "id": "FKIv6_1C0PlB"
   },
   "outputs": [],
   "source": [
    "# Since 784 = 28X28\n",
    "nC = 28\n",
    "nR = 28"
   ]
  },
  {
   "cell_type": "code",
   "execution_count": 14,
   "metadata": {
    "colab": {
     "base_uri": "https://localhost:8080/",
     "height": 34
    },
    "colab_type": "code",
    "id": "H1ijDcHbX3eu",
    "outputId": "6b5e3169-a1fb-4fb5-bf60-d41fa389a3a9"
   },
   "outputs": [
    {
     "name": "stdout",
     "output_type": "stream",
     "text": [
      "6272000\n"
     ]
    }
   ],
   "source": [
    "nBytesTotal = Img*nR*nC*1#since each pixel data is 1 byte\n",
    "print(nBytesTotal)\n",
    "image_array = 255-np.array(train_setX)\n",
    "image_array= image_array.reshape(Img,nR, nC)\n",
    "Image_array= np.array(image_array)\n"
   ]
  },
  {
   "cell_type": "code",
   "execution_count": 50,
   "metadata": {
    "colab": {
     "base_uri": "https://localhost:8080/",
     "height": 34
    },
    "colab_type": "code",
    "id": "yCgkJAFQF5B4",
    "outputId": "8d2d013a-96ba-46ec-cb34-cd6fe0d01396"
   },
   "outputs": [
    {
     "name": "stdout",
     "output_type": "stream",
     "text": [
      "(8000, 1)\n"
     ]
    }
   ],
   "source": [
    "image_array_test= 255-np.array(test_setX)\n",
    "image_array_test =image_array_test.reshape(2000, nR, nC)\n",
    "Label_set = np.array(train_setY).reshape(len(train_setY),1)\n",
    "print(Label_set.shape)"
   ]
  },
  {
   "cell_type": "code",
   "execution_count": 48,
   "metadata": {
    "colab": {
     "base_uri": "https://localhost:8080/",
     "height": 286
    },
    "colab_type": "code",
    "id": "Yo4BJYwKX3-W",
    "outputId": "9aae98e0-8127-48cf-d60c-ab5aaa487c1e"
   },
   "outputs": [
    {
     "data": {
      "text/plain": [
       "<matplotlib.image.AxesImage at 0x7f7d135efcf8>"
      ]
     },
     "execution_count": 48,
     "metadata": {
      "tags": []
     },
     "output_type": "execute_result"
    },
    {
     "data": {
      "image/png": "[encoded data removed]",
      "text/plain": [
       "<Figure size 432x288 with 1 Axes>"
      ]
     },
     "metadata": {
      "tags": []
     },
     "output_type": "display_data"
    }
   ],
   "source": [
    "\n",
    "x = Image_array[1]\n",
    "plt.imshow(x)"
   ]
  },
  {
   "cell_type": "markdown",
   "metadata": {
    "colab_type": "text",
    "id": "-EOqSixpW6S9"
   },
   "source": [
    "#Machine Learning"
   ]
  },
  {
   "cell_type": "code",
   "execution_count": 0,
   "metadata": {
    "colab": {},
    "colab_type": "code",
    "id": "oqbGxJK4W5Xz"
   },
   "outputs": [],
   "source": [
    "# Fitting K-NN to the Training set\n",
    "_array = np.array(train_setX).reshape(8000, 28*28)\n",
    "x_train= _array\n",
    "y_train=train_setY\n",
    "_array_test = np.array(test_setX).reshape(2000,28*28)\n",
    "x_test= _array_test\n"
   ]
  },
  {
   "cell_type": "code",
   "execution_count": 0,
   "metadata": {
    "colab": {},
    "colab_type": "code",
    "id": "SknxyQhHPfSu"
   },
   "outputs": [],
   "source": [
    "from sklearn.model_selection import train_test_split\n",
    "x_train, x_test, y_train, y_test = train_test_split(x_train, y_train, test_size=0.20, random_state=4)\n"
   ]
  },
  {
   "cell_type": "code",
   "execution_count": 0,
   "metadata": {
    "colab": {
     "base_uri": "https://localhost:8080/",
     "height": 34
    },
    "colab_type": "code",
    "id": "a0PpaRyUW9z7",
    "outputId": "74810f52-dbff-467a-fd07-e36e04e3994d"
   },
   "outputs": [
    {
     "name": "stdout",
     "output_type": "stream",
     "text": [
      "0.7825\n"
     ]
    }
   ],
   "source": [
    "from sklearn.neighbors import KNeighborsClassifier\n",
    "classifier = KNeighborsClassifier(n_neighbors = 5, metric = 'minkowski', p = 2)\n",
    "classifier.fit(x_train, y_train)\n",
    "y_pred = classifier.predict(x_test)\n",
    "\n",
    "\n",
    "# compute classification accuracy for the logistic regression model\n",
    "from sklearn import metrics\n",
    "\n",
    "print(metrics.accuracy_score(y_test, y_pred))\n",
    "\n"
   ]
  },
  {
   "cell_type": "code",
   "execution_count": 0,
   "metadata": {
    "colab": {
     "base_uri": "https://localhost:8080/",
     "height": 34
    },
    "colab_type": "code",
    "id": "ErQvyGdARTGJ",
    "outputId": "a38ea975-097b-4a02-f126-a2dab6086af4"
   },
   "outputs": [
    {
     "name": "stdout",
     "output_type": "stream",
     "text": [
      "Gaussian Naive Bayes model accuracy(in %): 62.81250000000001\n"
     ]
    }
   ],
   "source": [
    "# trying naive bayes classification\n",
    "from sklearn.naive_bayes import GaussianNB \n",
    "gnb = GaussianNB() \n",
    "gnb.fit(x_train, y_train) \n",
    "\n",
    "# making predictions on the testing set \n",
    "y_pred = gnb.predict(x_test) \n",
    "  \n",
    "# comparing actual response values (y_test) with predicted response values (y_pred) \n",
    "from sklearn import metrics \n",
    "print(\"Gaussian Naive Bayes model accuracy(in %):\", metrics.accuracy_score(y_test, y_pred)*100)"
   ]
  },
  {
   "cell_type": "markdown",
   "metadata": {
    "colab_type": "text",
    "id": "E6ouB-8SYYAc"
   },
   "source": [
    "#  Building the training model  # CNN"
   ]
  },
  {
   "cell_type": "code",
   "execution_count": 0,
   "metadata": {
    "colab": {},
    "colab_type": "code",
    "id": "HHs_aCPdS9mb"
   },
   "outputs": [],
   "source": [
    "# Importing Libraries for training dataset\n",
    "import keras\n",
    "from keras.datasets import mnist\n",
    "from keras.models import Sequential\n",
    "from keras.layers import Dense, Dropout, Flatten\n",
    "from keras.layers import Conv2D, MaxPooling2D"
   ]
  },
  {
   "cell_type": "code",
   "execution_count": 0,
   "metadata": {
    "colab": {},
    "colab_type": "code",
    "id": "PTB6G8lQYnjF"
   },
   "outputs": [],
   "source": [
    "batch_size = 200\n",
    "num_classes = 6\n",
    "epochs = 20"
   ]
  },
  {
   "cell_type": "code",
   "execution_count": 0,
   "metadata": {
    "colab": {},
    "colab_type": "code",
    "id": "kh_pG5shYn9B"
   },
   "outputs": [],
   "source": [
    "img_rows, img_cols = nR, nC"
   ]
  },
  {
   "cell_type": "code",
   "execution_count": 53,
   "metadata": {
    "colab": {
     "base_uri": "https://localhost:8080/",
     "height": 34
    },
    "colab_type": "code",
    "id": "tvLfgK7gYoEC",
    "outputId": "4f5bcd61-2ff2-457f-dacf-a354d4e9ca39"
   },
   "outputs": [
    {
     "name": "stdout",
     "output_type": "stream",
     "text": [
      "(8000, 1)\n"
     ]
    }
   ],
   "source": [
    "x_train= image_array\n",
    "y_train=Label_set\n",
    "print(y_train.shape)"
   ]
  },
  {
   "cell_type": "code",
   "execution_count": 0,
   "metadata": {
    "colab": {},
    "colab_type": "code",
    "id": "ReQP0HC8GOVJ"
   },
   "outputs": [],
   "source": [
    "x_test = image_array_test"
   ]
  },
  {
   "cell_type": "code",
   "execution_count": 0,
   "metadata": {
    "colab": {},
    "colab_type": "code",
    "id": "51x7WB86Yy4l"
   },
   "outputs": [],
   "source": [
    "x_train = x_train.reshape(8000,28,28,1)\n"
   ]
  },
  {
   "cell_type": "code",
   "execution_count": 0,
   "metadata": {
    "colab": {},
    "colab_type": "code",
    "id": "mz2hTPoyGS6U"
   },
   "outputs": [],
   "source": [
    "x_test = x_test.reshape(2000,28,28,1)"
   ]
  },
  {
   "cell_type": "code",
   "execution_count": 59,
   "metadata": {
    "colab": {
     "base_uri": "https://localhost:8080/",
     "height": 69
    },
    "colab_type": "code",
    "id": "zBG6jr7IcnE0",
    "outputId": "bd07a989-d6b9-4965-9056-0f7823a68220"
   },
   "outputs": [
    {
     "name": "stdout",
     "output_type": "stream",
     "text": [
      "x_train shape: (8000, 28, 28, 1)\n",
      "8000 train samples\n",
      "Y train:  (8000, 1)\n"
     ]
    }
   ],
   "source": [
    "print('x_train shape:', x_train.shape)\n",
    "print(x_train.shape[0], 'train samples')\n",
    "print('Y train: ', y_train.shape)\n"
   ]
  },
  {
   "cell_type": "code",
   "execution_count": 60,
   "metadata": {
    "colab": {
     "base_uri": "https://localhost:8080/",
     "height": 52
    },
    "colab_type": "code",
    "id": "vJgFRvfKGkD-",
    "outputId": "5b6675c1-96ea-44f6-bccf-a870c8a3b452"
   },
   "outputs": [
    {
     "name": "stdout",
     "output_type": "stream",
     "text": [
      "x_test shape: (2000, 28, 28, 1)\n",
      "2000 test samples\n"
     ]
    }
   ],
   "source": [
    "print('x_test shape:', x_test.shape)\n",
    "print(x_test.shape[0], 'test samples')"
   ]
  },
  {
   "cell_type": "code",
   "execution_count": 66,
   "metadata": {
    "colab": {
     "base_uri": "https://localhost:8080/",
     "height": 341
    },
    "colab_type": "code",
    "id": "K7N-8h75w40U",
    "outputId": "e6b95018-6c92-4182-dc45-7a97196b26a6"
   },
   "outputs": [
    {
     "ename": "IndexError",
     "evalue": "ignored",
     "output_type": "error",
     "traceback": [
      "\u001b[0;31m---------------------------------------------------------------------------\u001b[0m",
      "\u001b[0;31mIndexError\u001b[0m                                Traceback (most recent call last)",
      "\u001b[0;32m<ipython-input-66-b666be694a26>\u001b[0m in \u001b[0;36m<module>\u001b[0;34m()\u001b[0m\n\u001b[1;32m      1\u001b[0m \u001b[0;34m\u001b[0m\u001b[0m\n\u001b[0;32m----> 2\u001b[0;31m \u001b[0my_train\u001b[0m \u001b[0;34m=\u001b[0m \u001b[0mkeras\u001b[0m\u001b[0;34m.\u001b[0m\u001b[0mutils\u001b[0m\u001b[0;34m.\u001b[0m\u001b[0mto_categorical\u001b[0m\u001b[0;34m(\u001b[0m\u001b[0my_train\u001b[0m\u001b[0;34m,\u001b[0m \u001b[0mnum_classes\u001b[0m\u001b[0;34m)\u001b[0m\u001b[0;34m\u001b[0m\u001b[0;34m\u001b[0m\u001b[0m\n\u001b[0m\u001b[1;32m      3\u001b[0m \u001b[0;31m#y_test = keras.utils.to_categorical(y_test, num_classes)\u001b[0m\u001b[0;34m\u001b[0m\u001b[0;34m\u001b[0m\u001b[0;34m\u001b[0m\u001b[0m\n\u001b[1;32m      4\u001b[0m \u001b[0mprint\u001b[0m\u001b[0;34m(\u001b[0m\u001b[0my_train\u001b[0m\u001b[0;34m)\u001b[0m\u001b[0;34m\u001b[0m\u001b[0;34m\u001b[0m\u001b[0m\n",
      "\u001b[0;32m/usr/local/lib/python3.6/dist-packages/keras/utils/np_utils.py\u001b[0m in \u001b[0;36mto_categorical\u001b[0;34m(y, num_classes, dtype)\u001b[0m\n\u001b[1;32m     32\u001b[0m     \u001b[0mn\u001b[0m \u001b[0;34m=\u001b[0m \u001b[0my\u001b[0m\u001b[0;34m.\u001b[0m\u001b[0mshape\u001b[0m\u001b[0;34m[\u001b[0m\u001b[0;36m0\u001b[0m\u001b[0;34m]\u001b[0m\u001b[0;34m\u001b[0m\u001b[0;34m\u001b[0m\u001b[0m\n\u001b[1;32m     33\u001b[0m     \u001b[0mcategorical\u001b[0m \u001b[0;34m=\u001b[0m \u001b[0mnp\u001b[0m\u001b[0;34m.\u001b[0m\u001b[0mzeros\u001b[0m\u001b[0;34m(\u001b[0m\u001b[0;34m(\u001b[0m\u001b[0mn\u001b[0m\u001b[0;34m,\u001b[0m \u001b[0mnum_classes\u001b[0m\u001b[0;34m)\u001b[0m\u001b[0;34m,\u001b[0m \u001b[0mdtype\u001b[0m\u001b[0;34m=\u001b[0m\u001b[0mdtype\u001b[0m\u001b[0;34m)\u001b[0m\u001b[0;34m\u001b[0m\u001b[0;34m\u001b[0m\u001b[0m\n\u001b[0;32m---> 34\u001b[0;31m     \u001b[0mcategorical\u001b[0m\u001b[0;34m[\u001b[0m\u001b[0mnp\u001b[0m\u001b[0;34m.\u001b[0m\u001b[0marange\u001b[0m\u001b[0;34m(\u001b[0m\u001b[0mn\u001b[0m\u001b[0;34m)\u001b[0m\u001b[0;34m,\u001b[0m \u001b[0my\u001b[0m\u001b[0;34m]\u001b[0m \u001b[0;34m=\u001b[0m \u001b[0;36m1\u001b[0m\u001b[0;34m\u001b[0m\u001b[0;34m\u001b[0m\u001b[0m\n\u001b[0m\u001b[1;32m     35\u001b[0m     \u001b[0moutput_shape\u001b[0m \u001b[0;34m=\u001b[0m \u001b[0minput_shape\u001b[0m \u001b[0;34m+\u001b[0m \u001b[0;34m(\u001b[0m\u001b[0mnum_classes\u001b[0m\u001b[0;34m,\u001b[0m\u001b[0;34m)\u001b[0m\u001b[0;34m\u001b[0m\u001b[0;34m\u001b[0m\u001b[0m\n\u001b[1;32m     36\u001b[0m     \u001b[0mcategorical\u001b[0m \u001b[0;34m=\u001b[0m \u001b[0mnp\u001b[0m\u001b[0;34m.\u001b[0m\u001b[0mreshape\u001b[0m\u001b[0;34m(\u001b[0m\u001b[0mcategorical\u001b[0m\u001b[0;34m,\u001b[0m \u001b[0moutput_shape\u001b[0m\u001b[0;34m)\u001b[0m\u001b[0;34m\u001b[0m\u001b[0;34m\u001b[0m\u001b[0m\n",
      "\u001b[0;31mIndexError\u001b[0m: index 6 is out of bounds for axis 1 with size 6"
     ]
    }
   ],
   "source": [
    "\n",
    "y_train = keras.utils.to_categorical(y_train, num_classes)\n",
    "#y_test = keras.utils.to_categorical(y_test, num_classes)\n",
    "print(y_train)"
   ]
  },
  {
   "cell_type": "code",
   "execution_count": 0,
   "metadata": {
    "colab": {},
    "colab_type": "code",
    "id": "SU5yXaGgY45L"
   },
   "outputs": [],
   "source": [
    "classifier = Sequential()\n"
   ]
  },
  {
   "cell_type": "code",
   "execution_count": 0,
   "metadata": {
    "colab": {},
    "colab_type": "code",
    "id": "ni6ZNCnkekKD"
   },
   "outputs": [],
   "source": [
    " input_shape = (28, 28, 1)"
   ]
  },
  {
   "cell_type": "code",
   "execution_count": 0,
   "metadata": {
    "colab": {
     "base_uri": "https://localhost:8080/",
     "height": 89
    },
    "colab_type": "code",
    "id": "0gFiRn56go8L",
    "outputId": "709cf040-677c-42b8-9dae-96b9a6fe75e1"
   },
   "outputs": [
    {
     "name": "stdout",
     "output_type": "stream",
     "text": [
      "WARNING:tensorflow:From /usr/local/lib/python3.6/dist-packages/tensorflow/python/framework/op_def_library.py:263: colocate_with (from tensorflow.python.framework.ops) is deprecated and will be removed in a future version.\n",
      "Instructions for updating:\n",
      "Colocations handled automatically by placer.\n"
     ]
    }
   ],
   "source": [
    "#CONVOLUTION MODEL BUILT\n",
    "\n",
    "# Step 1 - Convolution\n",
    "classifier.add(Conv2D(32, (3, 3), input_shape = (28, 28, 1), activation = 'relu'))\n",
    "\n",
    "# Step 2 - Pooling\n",
    "classifier.add(MaxPooling2D(pool_size = (2, 2)))\n",
    "\n",
    "# Adding a second convolutional layer\n",
    "classifier.add(Conv2D(64, (3, 3), activation = 'relu'))\n",
    "classifier.add(MaxPooling2D(pool_size = (2, 2)))\n",
    "\n",
    "# Adding a second convolutional layer\n",
    "classifier.add(Conv2D(632, (3, 3), activation = 'relu'))\n",
    "classifier.add(MaxPooling2D(pool_size = (2, 2)))\n",
    "\n",
    "# Step 3 - Flattening\n",
    "classifier.add(Flatten())\n",
    "\n",
    "# Step 4 - Full connection\n",
    "classifier.add(Dense(units = 64, activation = 'relu'))\n",
    "classifier.add(Dense(units = 4, activation = 'sigmoid'))\n"
   ]
  },
  {
   "cell_type": "code",
   "execution_count": 0,
   "metadata": {
    "colab": {},
    "colab_type": "code",
    "id": "l44D5H8NULTd"
   },
   "outputs": [],
   "source": [
    "#convolution\n",
    "model.add(Conv2D(32, kernel_size=(3, 3), activation='relu',input_shape=input_shape))\n",
    "\n",
    "#pooling\n",
    "classifier.add(MaxPooling2D(pool_size = (2, 2)))\n",
    "\n",
    "#adding another convolution layer\n",
    "model.add(Conv2D(64, (3, 3), activation='relu'))\n",
    "model.add(MaxPooling2D(pool_size=(3, 3)))\n",
    "model.add(Dropout(0.25))\n",
    "\n",
    "#flattening\n",
    "model.add(Flatten())\n",
    "\n",
    "#full connection\n",
    "model.add(Dense(128, activation='relu'))\n",
    "model.add(Dropout(0.5))\n",
    "model.add(Dense(units=1, activation='softmax'))"
   ]
  },
  {
   "cell_type": "code",
   "execution_count": 0,
   "metadata": {
    "colab": {},
    "colab_type": "code",
    "id": "fghhaDs_Y42o"
   },
   "outputs": [],
   "source": [
    "model.compile(loss=keras.losses.categorical_crossentropy,\n",
    "              optimizer=keras.optimizers.Adadelta(),\n",
    "              metrics=['accuracy'])\n"
   ]
  },
  {
   "cell_type": "code",
   "execution_count": 0,
   "metadata": {
    "colab": {},
    "colab_type": "code",
    "id": "O81NvEjVZDox"
   },
   "outputs": [],
   "source": [
    "\n",
    "model.fit(x = x_train, y = y_train, \n",
    "          validation_split=0.1, \n",
    "          batch_size = batch_size, \n",
    "          verbose=2, \n",
    "          epochs=epochs)\n",
    "\n"
   ]
  },
  {
   "cell_type": "code",
   "execution_count": 0,
   "metadata": {
    "colab": {},
    "colab_type": "code",
    "id": "hzt7dczwVJ_K"
   },
   "outputs": [],
   "source": [
    "score = model.evaluate(X_test, y_test, verbose=0)\n",
    "print('Test loss:', score[0]) #Test loss: 0.0296396646054\n",
    "print('Test accuracy:', score[1]) #Test accuracy: 0.9904"
   ]
  },
  {
   "cell_type": "code",
   "execution_count": 0,
   "metadata": {
    "colab": {},
    "colab_type": "code",
    "id": "zSmFeREffRzs"
   },
   "outputs": [],
   "source": [
    "\n",
    "predictions = model.predict(x_test)\n",
    "print(predictions)\n"
   ]
  },
  {
   "cell_type": "code",
   "execution_count": 0,
   "metadata": {
    "colab": {},
    "colab_type": "code",
    "id": "rW8KzWw3f2V8"
   },
   "outputs": [],
   "source": [
    "import csv\n",
    "with open('persons.csv', 'wb') as csvfile:\n",
    "  filewriter = csv.writer(csvfile, delimiter=',',\n",
    "                            quotechar='|', quoting=csv.QUOTE_MINIMAL)\n",
    "  k=0\n",
    "  for i in predictions:\n",
    "    p = str(k)\n",
    "    q= str(i)\n",
    "    filewriter.writerow()\n",
    "     # filewriter.writerow()\n",
    "    k= k+1"
   ]
  }
 ],
 "metadata": {
  "colab": {
   "collapsed_sections": [],
   "include_colab_link": true,
   "name": "Computer_vision_assignment.ipynb",
   "provenance": [],
   "version": "0.3.2"
  },
  "kernelspec": {
   "display_name": "Python 3",
   "language": "python",
   "name": "python3"
  },
  "language_info": {
   "codemirror_mode": {
    "name": "ipython",
    "version": 3
   },
   "file_extension": ".py",
   "mimetype": "text/x-python",
   "name": "python",
   "nbconvert_exporter": "python",
   "pygments_lexer": "ipython3",
   "version": "3.6.6"
  }
 },
 "nbformat": 4,
 "nbformat_minor": 1
}
